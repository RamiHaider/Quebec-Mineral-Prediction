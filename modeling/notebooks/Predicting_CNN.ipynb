{
 "cells": [
  {
   "cell_type": "code",
   "execution_count": 1,
   "id": "f5e7d676-c8a7-4ed7-b743-2f1f347c334c",
   "metadata": {},
   "outputs": [
    {
     "name": "stdout",
     "output_type": "stream",
     "text": [
      "Loading model from /Users/ramiab/Desktop/Mineral-Predictions-Local/Training/models/cnn_model_20250125_epoch1.pt\n"
     ]
    },
    {
     "name": "stderr",
     "output_type": "stream",
     "text": [
      "/var/folders/3x/4p2fydpn6_3cl5dk1hyl2ppw0000gn/T/ipykernel_11836/1545853793.py:104: FutureWarning: You are using `torch.load` with `weights_only=False` (the current default value), which uses the default pickle module implicitly. It is possible to construct malicious pickle data which will execute arbitrary code during unpickling (See https://github.com/pytorch/pytorch/blob/main/SECURITY.md#untrusted-models for more details). In a future release, the default value for `weights_only` will be flipped to `True`. This limits the functions that could be executed during unpickling. Arbitrary objects will no longer be allowed to be loaded via this mode unless they are explicitly allowlisted by the user via `torch.serialization.add_safe_globals`. We recommend you start setting `weights_only=True` for any use case where you don't have full control of the loaded file. Please open an issue on GitHub for any issues related to this experimental feature.\n",
      "  checkpoint = torch.load(MODEL_PATH, map_location=DEVICE)\n"
     ]
    },
    {
     "name": "stdout",
     "output_type": "stream",
     "text": [
      "Model loaded successfully\n",
      "Grid dataset initialized with 1107289 points\n",
      "Features being used: ['CODE_LITH_encoded', 'STRAT_encoded', 'dist_fault', 'dist_cont']\n",
      "\n",
      "Starting predictions...\n",
      "Total batches: 17302\n",
      "Will save CSV every 100,000 samples (approximately every 1,562 batches)\n",
      "Will print status every 100 batches\n"
     ]
    },
    {
     "name": "stderr",
     "output_type": "stream",
     "text": [
      "Predicting:   1%|▏                        | 100/17302 [02:04<5:13:05,  1.09s/it]"
     ]
    },
    {
     "name": "stdout",
     "output_type": "stream",
     "text": [
      "\n",
      "Batch 100/17302 (6,400 samples)\n",
      "Batch predictions:\n",
      "AU: 0 positives in this batch\n",
      "AG: 3 positives in this batch\n",
      "CU: 0 positives in this batch\n",
      "CO: 0 positives in this batch\n",
      "NI: 0 positives in this batch\n"
     ]
    },
    {
     "name": "stderr",
     "output_type": "stream",
     "text": [
      "Predicting:   1%|▎                        | 200/17302 [04:25<8:07:24,  1.71s/it]"
     ]
    },
    {
     "name": "stdout",
     "output_type": "stream",
     "text": [
      "\n",
      "Batch 200/17302 (12,800 samples)\n",
      "Batch predictions:\n",
      "AU: 0 positives in this batch\n",
      "AG: 4 positives in this batch\n",
      "CU: 0 positives in this batch\n",
      "CO: 1 positives in this batch\n",
      "NI: 6 positives in this batch\n"
     ]
    },
    {
     "name": "stderr",
     "output_type": "stream",
     "text": [
      "Predicting:   2%|▍                        | 300/17302 [07:01<8:19:53,  1.76s/it]"
     ]
    },
    {
     "name": "stdout",
     "output_type": "stream",
     "text": [
      "\n",
      "Batch 300/17302 (19,200 samples)\n",
      "Batch predictions:\n",
      "AU: 1 positives in this batch\n",
      "AG: 1 positives in this batch\n",
      "CU: 0 positives in this batch\n",
      "CO: 0 positives in this batch\n",
      "NI: 1 positives in this batch\n"
     ]
    },
    {
     "name": "stderr",
     "output_type": "stream",
     "text": [
      "Predicting:   2%|▌                        | 400/17302 [09:35<5:15:26,  1.12s/it]"
     ]
    },
    {
     "name": "stdout",
     "output_type": "stream",
     "text": [
      "\n",
      "Batch 400/17302 (25,600 samples)\n",
      "Batch predictions:\n",
      "AU: 0 positives in this batch\n",
      "AG: 1 positives in this batch\n",
      "CU: 1 positives in this batch\n",
      "CO: 0 positives in this batch\n",
      "NI: 1 positives in this batch\n"
     ]
    },
    {
     "name": "stderr",
     "output_type": "stream",
     "text": [
      "Predicting:   3%|▋                        | 500/17302 [11:18<4:32:48,  1.03it/s]"
     ]
    },
    {
     "name": "stdout",
     "output_type": "stream",
     "text": [
      "\n",
      "Batch 500/17302 (32,000 samples)\n",
      "Batch predictions:\n",
      "AU: 0 positives in this batch\n",
      "AG: 8 positives in this batch\n",
      "CU: 0 positives in this batch\n",
      "CO: 0 positives in this batch\n",
      "NI: 0 positives in this batch\n"
     ]
    },
    {
     "name": "stderr",
     "output_type": "stream",
     "text": [
      "Predicting:   3%|▊                        | 600/17302 [13:07<5:23:32,  1.16s/it]"
     ]
    },
    {
     "name": "stdout",
     "output_type": "stream",
     "text": [
      "\n",
      "Batch 600/17302 (38,400 samples)\n",
      "Batch predictions:\n",
      "AU: 0 positives in this batch\n",
      "AG: 4 positives in this batch\n",
      "CU: 1 positives in this batch\n",
      "CO: 0 positives in this batch\n",
      "NI: 4 positives in this batch\n"
     ]
    },
    {
     "name": "stderr",
     "output_type": "stream",
     "text": [
      "Predicting:   4%|█                        | 700/17302 [14:54<5:32:20,  1.20s/it]"
     ]
    },
    {
     "name": "stdout",
     "output_type": "stream",
     "text": [
      "\n",
      "Batch 700/17302 (44,800 samples)\n",
      "Batch predictions:\n",
      "AU: 0 positives in this batch\n",
      "AG: 6 positives in this batch\n",
      "CU: 0 positives in this batch\n",
      "CO: 0 positives in this batch\n",
      "NI: 0 positives in this batch\n"
     ]
    },
    {
     "name": "stderr",
     "output_type": "stream",
     "text": [
      "Predicting:   5%|█▏                       | 800/17302 [16:44<4:02:29,  1.13it/s]"
     ]
    },
    {
     "name": "stdout",
     "output_type": "stream",
     "text": [
      "\n",
      "Batch 800/17302 (51,200 samples)\n",
      "Batch predictions:\n",
      "AU: 0 positives in this batch\n",
      "AG: 3 positives in this batch\n",
      "CU: 0 positives in this batch\n",
      "CO: 0 positives in this batch\n",
      "NI: 0 positives in this batch\n"
     ]
    },
    {
     "name": "stderr",
     "output_type": "stream",
     "text": [
      "Predicting:   5%|█▎                       | 900/17302 [18:13<3:52:44,  1.17it/s]"
     ]
    },
    {
     "name": "stdout",
     "output_type": "stream",
     "text": [
      "\n",
      "Batch 900/17302 (57,600 samples)\n",
      "Batch predictions:\n",
      "AU: 2 positives in this batch\n",
      "AG: 1 positives in this batch\n",
      "CU: 0 positives in this batch\n",
      "CO: 0 positives in this batch\n",
      "NI: 4 positives in this batch\n"
     ]
    },
    {
     "name": "stderr",
     "output_type": "stream",
     "text": [
      "Predicting:   6%|█▍                      | 1000/17302 [19:44<3:49:39,  1.18it/s]"
     ]
    },
    {
     "name": "stdout",
     "output_type": "stream",
     "text": [
      "\n",
      "Batch 1000/17302 (64,000 samples)\n",
      "Batch predictions:\n",
      "AU: 1 positives in this batch\n",
      "AG: 1 positives in this batch\n",
      "CU: 4 positives in this batch\n",
      "CO: 7 positives in this batch\n",
      "NI: 21 positives in this batch\n"
     ]
    },
    {
     "name": "stderr",
     "output_type": "stream",
     "text": [
      "Predicting:   6%|█▌                      | 1100/17302 [21:13<3:59:17,  1.13it/s]"
     ]
    },
    {
     "name": "stdout",
     "output_type": "stream",
     "text": [
      "\n",
      "Batch 1100/17302 (70,400 samples)\n",
      "Batch predictions:\n",
      "AU: 1 positives in this batch\n",
      "AG: 5 positives in this batch\n",
      "CU: 0 positives in this batch\n",
      "CO: 0 positives in this batch\n",
      "NI: 0 positives in this batch\n"
     ]
    },
    {
     "name": "stderr",
     "output_type": "stream",
     "text": [
      "Predicting:   7%|█▋                      | 1200/17302 [23:01<3:44:07,  1.20it/s]"
     ]
    },
    {
     "name": "stdout",
     "output_type": "stream",
     "text": [
      "\n",
      "Batch 1200/17302 (76,800 samples)\n",
      "Batch predictions:\n",
      "AU: 2 positives in this batch\n",
      "AG: 3 positives in this batch\n",
      "CU: 0 positives in this batch\n",
      "CO: 0 positives in this batch\n",
      "NI: 1 positives in this batch\n"
     ]
    },
    {
     "name": "stderr",
     "output_type": "stream",
     "text": [
      "Predicting:   8%|█▊                      | 1300/17302 [24:43<4:46:25,  1.07s/it]"
     ]
    },
    {
     "name": "stdout",
     "output_type": "stream",
     "text": [
      "\n",
      "Batch 1300/17302 (83,200 samples)\n",
      "Batch predictions:\n",
      "AU: 4 positives in this batch\n",
      "AG: 4 positives in this batch\n",
      "CU: 2 positives in this batch\n",
      "CO: 1 positives in this batch\n",
      "NI: 6 positives in this batch\n"
     ]
    },
    {
     "name": "stderr",
     "output_type": "stream",
     "text": [
      "Predicting:   8%|█▉                      | 1400/17302 [26:23<4:32:10,  1.03s/it]"
     ]
    },
    {
     "name": "stdout",
     "output_type": "stream",
     "text": [
      "\n",
      "Batch 1400/17302 (89,600 samples)\n",
      "Batch predictions:\n",
      "AU: 0 positives in this batch\n",
      "AG: 1 positives in this batch\n",
      "CU: 1 positives in this batch\n",
      "CO: 1 positives in this batch\n",
      "NI: 4 positives in this batch\n"
     ]
    },
    {
     "name": "stderr",
     "output_type": "stream",
     "text": [
      "Predicting:   9%|██                      | 1500/17302 [27:57<3:45:21,  1.17it/s]"
     ]
    },
    {
     "name": "stdout",
     "output_type": "stream",
     "text": [
      "\n",
      "Batch 1500/17302 (96,000 samples)\n",
      "Batch predictions:\n",
      "AU: 1 positives in this batch\n",
      "AG: 2 positives in this batch\n",
      "CU: 0 positives in this batch\n",
      "CO: 0 positives in this batch\n",
      "NI: 0 positives in this batch\n"
     ]
    },
    {
     "name": "stderr",
     "output_type": "stream",
     "text": [
      "Predicting:   9%|██▏                     | 1563/17302 [28:56<8:25:15,  1.93s/it]"
     ]
    },
    {
     "name": "stdout",
     "output_type": "stream",
     "text": [
      "\n",
      "==================================================\n",
      "SAVED CHUNK: /Users/ramiab/Desktop/Mineral-Predictions-Local/Training/data/output/CNN_output_batch_100032.csv\n",
      "Processed 100,032/1,107,289 points (9.0%)\n",
      "\n",
      "Cumulative prediction statistics:\n",
      "AU: 1,260 positive predictions (1.26%)\n",
      "AG: 3,859 positive predictions (3.86%)\n",
      "CU: 734 positive predictions (0.73%)\n",
      "CO: 1,188 positive predictions (1.19%)\n",
      "NI: 2,842 positive predictions (2.84%)\n",
      "==================================================\n",
      "\n"
     ]
    },
    {
     "name": "stderr",
     "output_type": "stream",
     "text": [
      "Predicting:   9%|██▏                     | 1600/17302 [29:33<4:33:09,  1.04s/it]"
     ]
    },
    {
     "name": "stdout",
     "output_type": "stream",
     "text": [
      "\n",
      "Batch 1600/17302 (102,400 samples)\n",
      "Batch predictions:\n",
      "AU: 0 positives in this batch\n",
      "AG: 2 positives in this batch\n",
      "CU: 6 positives in this batch\n",
      "CO: 12 positives in this batch\n",
      "NI: 13 positives in this batch\n"
     ]
    },
    {
     "name": "stderr",
     "output_type": "stream",
     "text": [
      "Predicting:  10%|██▎                     | 1700/17302 [31:05<3:36:00,  1.20it/s]"
     ]
    },
    {
     "name": "stdout",
     "output_type": "stream",
     "text": [
      "\n",
      "Batch 1700/17302 (108,800 samples)\n",
      "Batch predictions:\n",
      "AU: 1 positives in this batch\n",
      "AG: 1 positives in this batch\n",
      "CU: 0 positives in this batch\n",
      "CO: 0 positives in this batch\n",
      "NI: 2 positives in this batch\n"
     ]
    },
    {
     "name": "stderr",
     "output_type": "stream",
     "text": [
      "Predicting:  10%|██▍                     | 1800/17302 [32:35<3:52:30,  1.11it/s]"
     ]
    },
    {
     "name": "stdout",
     "output_type": "stream",
     "text": [
      "\n",
      "Batch 1800/17302 (115,200 samples)\n",
      "Batch predictions:\n",
      "AU: 0 positives in this batch\n",
      "AG: 3 positives in this batch\n",
      "CU: 0 positives in this batch\n",
      "CO: 0 positives in this batch\n",
      "NI: 1 positives in this batch\n"
     ]
    },
    {
     "name": "stderr",
     "output_type": "stream",
     "text": [
      "Predicting:  11%|██▋                     | 1900/17302 [34:04<4:03:33,  1.05it/s]"
     ]
    },
    {
     "name": "stdout",
     "output_type": "stream",
     "text": [
      "\n",
      "Batch 1900/17302 (121,600 samples)\n",
      "Batch predictions:\n",
      "AU: 0 positives in this batch\n",
      "AG: 3 positives in this batch\n",
      "CU: 0 positives in this batch\n",
      "CO: 0 positives in this batch\n",
      "NI: 0 positives in this batch\n"
     ]
    },
    {
     "name": "stderr",
     "output_type": "stream",
     "text": [
      "Predicting:  12%|██▊                     | 2000/17302 [35:33<4:06:32,  1.03it/s]"
     ]
    },
    {
     "name": "stdout",
     "output_type": "stream",
     "text": [
      "\n",
      "Batch 2000/17302 (128,000 samples)\n",
      "Batch predictions:\n",
      "AU: 0 positives in this batch\n",
      "AG: 2 positives in this batch\n",
      "CU: 0 positives in this batch\n",
      "CO: 0 positives in this batch\n",
      "NI: 0 positives in this batch\n"
     ]
    },
    {
     "name": "stderr",
     "output_type": "stream",
     "text": [
      "Predicting:  12%|██▉                     | 2100/17302 [37:03<3:52:21,  1.09it/s]"
     ]
    },
    {
     "name": "stdout",
     "output_type": "stream",
     "text": [
      "\n",
      "Batch 2100/17302 (134,400 samples)\n",
      "Batch predictions:\n",
      "AU: 0 positives in this batch\n",
      "AG: 3 positives in this batch\n",
      "CU: 0 positives in this batch\n",
      "CO: 0 positives in this batch\n",
      "NI: 1 positives in this batch\n"
     ]
    },
    {
     "name": "stderr",
     "output_type": "stream",
     "text": [
      "Predicting:  13%|███                     | 2200/17302 [38:32<3:49:15,  1.10it/s]"
     ]
    },
    {
     "name": "stdout",
     "output_type": "stream",
     "text": [
      "\n",
      "Batch 2200/17302 (140,800 samples)\n",
      "Batch predictions:\n",
      "AU: 4 positives in this batch\n",
      "AG: 5 positives in this batch\n",
      "CU: 0 positives in this batch\n",
      "CO: 1 positives in this batch\n",
      "NI: 3 positives in this batch\n"
     ]
    },
    {
     "name": "stderr",
     "output_type": "stream",
     "text": [
      "Predicting:  13%|███▏                    | 2300/17302 [39:56<3:16:39,  1.27it/s]"
     ]
    },
    {
     "name": "stdout",
     "output_type": "stream",
     "text": [
      "\n",
      "Batch 2300/17302 (147,200 samples)\n",
      "Batch predictions:\n",
      "AU: 0 positives in this batch\n",
      "AG: 1 positives in this batch\n",
      "CU: 0 positives in this batch\n",
      "CO: 0 positives in this batch\n",
      "NI: 0 positives in this batch\n"
     ]
    },
    {
     "name": "stderr",
     "output_type": "stream",
     "text": [
      "Predicting:  14%|███▎                    | 2400/17302 [41:17<3:14:10,  1.28it/s]"
     ]
    },
    {
     "name": "stdout",
     "output_type": "stream",
     "text": [
      "\n",
      "Batch 2400/17302 (153,600 samples)\n",
      "Batch predictions:\n",
      "AU: 0 positives in this batch\n",
      "AG: 3 positives in this batch\n",
      "CU: 0 positives in this batch\n",
      "CO: 0 positives in this batch\n",
      "NI: 1 positives in this batch\n"
     ]
    },
    {
     "name": "stderr",
     "output_type": "stream",
     "text": [
      "Predicting:  14%|███▍                    | 2500/17302 [42:40<3:21:07,  1.23it/s]"
     ]
    },
    {
     "name": "stdout",
     "output_type": "stream",
     "text": [
      "\n",
      "Batch 2500/17302 (160,000 samples)\n",
      "Batch predictions:\n",
      "AU: 3 positives in this batch\n",
      "AG: 4 positives in this batch\n",
      "CU: 0 positives in this batch\n",
      "CO: 0 positives in this batch\n",
      "NI: 1 positives in this batch\n"
     ]
    },
    {
     "name": "stderr",
     "output_type": "stream",
     "text": [
      "Predicting:  15%|███▌                    | 2600/17302 [44:07<3:31:51,  1.16it/s]"
     ]
    },
    {
     "name": "stdout",
     "output_type": "stream",
     "text": [
      "\n",
      "Batch 2600/17302 (166,400 samples)\n",
      "Batch predictions:\n",
      "AU: 0 positives in this batch\n",
      "AG: 4 positives in this batch\n",
      "CU: 0 positives in this batch\n",
      "CO: 0 positives in this batch\n",
      "NI: 0 positives in this batch\n"
     ]
    },
    {
     "name": "stderr",
     "output_type": "stream",
     "text": [
      "Predicting:  16%|███▋                    | 2700/17302 [45:33<3:46:51,  1.07it/s]"
     ]
    },
    {
     "name": "stdout",
     "output_type": "stream",
     "text": [
      "\n",
      "Batch 2700/17302 (172,800 samples)\n",
      "Batch predictions:\n",
      "AU: 1 positives in this batch\n",
      "AG: 1 positives in this batch\n",
      "CU: 0 positives in this batch\n",
      "CO: 0 positives in this batch\n",
      "NI: 0 positives in this batch\n"
     ]
    },
    {
     "name": "stderr",
     "output_type": "stream",
     "text": [
      "Predicting:  16%|███▉                    | 2800/17302 [47:01<3:26:44,  1.17it/s]"
     ]
    },
    {
     "name": "stdout",
     "output_type": "stream",
     "text": [
      "\n",
      "Batch 2800/17302 (179,200 samples)\n",
      "Batch predictions:\n",
      "AU: 2 positives in this batch\n",
      "AG: 7 positives in this batch\n",
      "CU: 1 positives in this batch\n",
      "CO: 1 positives in this batch\n",
      "NI: 1 positives in this batch\n"
     ]
    },
    {
     "name": "stderr",
     "output_type": "stream",
     "text": [
      "Predicting:  17%|████                    | 2900/17302 [48:26<2:49:08,  1.42it/s]"
     ]
    },
    {
     "name": "stdout",
     "output_type": "stream",
     "text": [
      "\n",
      "Batch 2900/17302 (185,600 samples)\n",
      "Batch predictions:\n",
      "AU: 0 positives in this batch\n",
      "AG: 2 positives in this batch\n",
      "CU: 0 positives in this batch\n",
      "CO: 0 positives in this batch\n",
      "NI: 0 positives in this batch\n"
     ]
    },
    {
     "name": "stderr",
     "output_type": "stream",
     "text": [
      "Predicting:  17%|████▏                   | 3000/17302 [49:41<2:59:18,  1.33it/s]"
     ]
    },
    {
     "name": "stdout",
     "output_type": "stream",
     "text": [
      "\n",
      "Batch 3000/17302 (192,000 samples)\n",
      "Batch predictions:\n",
      "AU: 0 positives in this batch\n",
      "AG: 12 positives in this batch\n",
      "CU: 6 positives in this batch\n",
      "CO: 10 positives in this batch\n",
      "NI: 4 positives in this batch\n"
     ]
    },
    {
     "name": "stderr",
     "output_type": "stream",
     "text": [
      "Predicting:  18%|████▎                   | 3100/17302 [51:01<2:57:58,  1.33it/s]"
     ]
    },
    {
     "name": "stdout",
     "output_type": "stream",
     "text": [
      "\n",
      "Batch 3100/17302 (198,400 samples)\n",
      "Batch predictions:\n",
      "AU: 0 positives in this batch\n",
      "AG: 2 positives in this batch\n",
      "CU: 0 positives in this batch\n",
      "CO: 0 positives in this batch\n",
      "NI: 1 positives in this batch\n"
     ]
    },
    {
     "name": "stderr",
     "output_type": "stream",
     "text": [
      "Predicting:  18%|████▎                   | 3125/17302 [51:23<6:46:37,  1.72s/it]"
     ]
    },
    {
     "name": "stdout",
     "output_type": "stream",
     "text": [
      "\n",
      "==================================================\n",
      "SAVED CHUNK: /Users/ramiab/Desktop/Mineral-Predictions-Local/Training/data/output/CNN_output_batch_200000.csv\n",
      "Processed 200,000/1,107,289 points (18.1%)\n",
      "\n",
      "Cumulative prediction statistics:\n",
      "AU: 2,590 positive predictions (1.29%)\n",
      "AG: 8,635 positive predictions (4.32%)\n",
      "CU: 1,501 positive predictions (0.75%)\n",
      "CO: 2,327 positive predictions (1.16%)\n",
      "NI: 5,237 positive predictions (2.62%)\n",
      "==================================================\n",
      "\n"
     ]
    },
    {
     "name": "stderr",
     "output_type": "stream",
     "text": [
      "Predicting:  18%|████▍                   | 3200/17302 [52:22<3:31:09,  1.11it/s]"
     ]
    },
    {
     "name": "stdout",
     "output_type": "stream",
     "text": [
      "\n",
      "Batch 3200/17302 (204,800 samples)\n",
      "Batch predictions:\n",
      "AU: 0 positives in this batch\n",
      "AG: 5 positives in this batch\n",
      "CU: 4 positives in this batch\n",
      "CO: 10 positives in this batch\n",
      "NI: 9 positives in this batch\n"
     ]
    },
    {
     "name": "stderr",
     "output_type": "stream",
     "text": [
      "Predicting:  19%|████▌                   | 3300/17302 [53:40<3:10:40,  1.22it/s]"
     ]
    },
    {
     "name": "stdout",
     "output_type": "stream",
     "text": [
      "\n",
      "Batch 3300/17302 (211,200 samples)\n",
      "Batch predictions:\n",
      "AU: 0 positives in this batch\n",
      "AG: 7 positives in this batch\n",
      "CU: 6 positives in this batch\n",
      "CO: 18 positives in this batch\n",
      "NI: 12 positives in this batch\n"
     ]
    },
    {
     "name": "stderr",
     "output_type": "stream",
     "text": [
      "Predicting:  20%|████▋                   | 3400/17302 [55:01<3:07:21,  1.24it/s]"
     ]
    },
    {
     "name": "stdout",
     "output_type": "stream",
     "text": [
      "\n",
      "Batch 3400/17302 (217,600 samples)\n",
      "Batch predictions:\n",
      "AU: 0 positives in this batch\n",
      "AG: 0 positives in this batch\n",
      "CU: 1 positives in this batch\n",
      "CO: 1 positives in this batch\n",
      "NI: 1 positives in this batch\n"
     ]
    },
    {
     "name": "stderr",
     "output_type": "stream",
     "text": [
      "Predicting:  20%|████▊                   | 3500/17302 [56:23<3:12:49,  1.19it/s]"
     ]
    },
    {
     "name": "stdout",
     "output_type": "stream",
     "text": [
      "\n",
      "Batch 3500/17302 (224,000 samples)\n",
      "Batch predictions:\n",
      "AU: 0 positives in this batch\n",
      "AG: 5 positives in this batch\n",
      "CU: 0 positives in this batch\n",
      "CO: 0 positives in this batch\n",
      "NI: 0 positives in this batch\n"
     ]
    },
    {
     "name": "stderr",
     "output_type": "stream",
     "text": [
      "Predicting:  21%|████▉                   | 3600/17302 [57:46<3:04:40,  1.24it/s]"
     ]
    },
    {
     "name": "stdout",
     "output_type": "stream",
     "text": [
      "\n",
      "Batch 3600/17302 (230,400 samples)\n",
      "Batch predictions:\n",
      "AU: 0 positives in this batch\n",
      "AG: 1 positives in this batch\n",
      "CU: 4 positives in this batch\n",
      "CO: 9 positives in this batch\n",
      "NI: 11 positives in this batch\n"
     ]
    },
    {
     "name": "stderr",
     "output_type": "stream",
     "text": [
      "Predicting:  21%|█████▏                  | 3700/17302 [59:05<2:52:55,  1.31it/s]"
     ]
    },
    {
     "name": "stdout",
     "output_type": "stream",
     "text": [
      "\n",
      "Batch 3700/17302 (236,800 samples)\n",
      "Batch predictions:\n",
      "AU: 1 positives in this batch\n",
      "AG: 1 positives in this batch\n",
      "CU: 0 positives in this batch\n",
      "CO: 0 positives in this batch\n",
      "NI: 0 positives in this batch\n"
     ]
    },
    {
     "name": "stderr",
     "output_type": "stream",
     "text": [
      "Predicting:  22%|████▊                 | 3800/17302 [1:00:25<3:01:47,  1.24it/s]"
     ]
    },
    {
     "name": "stdout",
     "output_type": "stream",
     "text": [
      "\n",
      "Batch 3800/17302 (243,200 samples)\n",
      "Batch predictions:\n",
      "AU: 1 positives in this batch\n",
      "AG: 12 positives in this batch\n",
      "CU: 0 positives in this batch\n",
      "CO: 0 positives in this batch\n",
      "NI: 0 positives in this batch\n"
     ]
    },
    {
     "name": "stderr",
     "output_type": "stream",
     "text": [
      "Predicting:  23%|████▉                 | 3900/17302 [1:01:46<3:01:35,  1.23it/s]"
     ]
    },
    {
     "name": "stdout",
     "output_type": "stream",
     "text": [
      "\n",
      "Batch 3900/17302 (249,600 samples)\n",
      "Batch predictions:\n",
      "AU: 0 positives in this batch\n",
      "AG: 5 positives in this batch\n",
      "CU: 8 positives in this batch\n",
      "CO: 14 positives in this batch\n",
      "NI: 14 positives in this batch\n"
     ]
    },
    {
     "name": "stderr",
     "output_type": "stream",
     "text": [
      "Predicting:  23%|█████                 | 4000/17302 [1:03:09<2:58:24,  1.24it/s]"
     ]
    },
    {
     "name": "stdout",
     "output_type": "stream",
     "text": [
      "\n",
      "Batch 4000/17302 (256,000 samples)\n",
      "Batch predictions:\n",
      "AU: 0 positives in this batch\n",
      "AG: 1 positives in this batch\n",
      "CU: 0 positives in this batch\n",
      "CO: 0 positives in this batch\n",
      "NI: 1 positives in this batch\n"
     ]
    },
    {
     "name": "stderr",
     "output_type": "stream",
     "text": [
      "Predicting:  24%|█████▏                | 4100/17302 [1:04:33<3:01:49,  1.21it/s]"
     ]
    },
    {
     "name": "stdout",
     "output_type": "stream",
     "text": [
      "\n",
      "Batch 4100/17302 (262,400 samples)\n",
      "Batch predictions:\n",
      "AU: 0 positives in this batch\n",
      "AG: 4 positives in this batch\n",
      "CU: 0 positives in this batch\n",
      "CO: 0 positives in this batch\n",
      "NI: 0 positives in this batch\n"
     ]
    },
    {
     "name": "stderr",
     "output_type": "stream",
     "text": [
      "Predicting:  24%|█████▎                | 4200/17302 [1:05:55<3:06:49,  1.17it/s]"
     ]
    },
    {
     "name": "stdout",
     "output_type": "stream",
     "text": [
      "\n",
      "Batch 4200/17302 (268,800 samples)\n",
      "Batch predictions:\n",
      "AU: 0 positives in this batch\n",
      "AG: 2 positives in this batch\n",
      "CU: 0 positives in this batch\n",
      "CO: 0 positives in this batch\n",
      "NI: 0 positives in this batch\n"
     ]
    },
    {
     "name": "stderr",
     "output_type": "stream",
     "text": [
      "Predicting:  25%|█████▍                | 4300/17302 [1:07:18<2:38:05,  1.37it/s]"
     ]
    },
    {
     "name": "stdout",
     "output_type": "stream",
     "text": [
      "\n",
      "Batch 4300/17302 (275,200 samples)\n",
      "Batch predictions:\n",
      "AU: 0 positives in this batch\n",
      "AG: 7 positives in this batch\n",
      "CU: 3 positives in this batch\n",
      "CO: 8 positives in this batch\n",
      "NI: 12 positives in this batch\n"
     ]
    },
    {
     "name": "stderr",
     "output_type": "stream",
     "text": [
      "Predicting:  25%|█████▌                | 4400/17302 [1:08:31<2:28:41,  1.45it/s]"
     ]
    },
    {
     "name": "stdout",
     "output_type": "stream",
     "text": [
      "\n",
      "Batch 4400/17302 (281,600 samples)\n",
      "Batch predictions:\n",
      "AU: 2 positives in this batch\n",
      "AG: 1 positives in this batch\n",
      "CU: 0 positives in this batch\n",
      "CO: 0 positives in this batch\n",
      "NI: 1 positives in this batch\n"
     ]
    },
    {
     "name": "stderr",
     "output_type": "stream",
     "text": [
      "Predicting:  26%|█████▋                | 4500/17302 [1:09:49<2:43:26,  1.31it/s]"
     ]
    },
    {
     "name": "stdout",
     "output_type": "stream",
     "text": [
      "\n",
      "Batch 4500/17302 (288,000 samples)\n",
      "Batch predictions:\n",
      "AU: 0 positives in this batch\n",
      "AG: 6 positives in this batch\n",
      "CU: 6 positives in this batch\n",
      "CO: 14 positives in this batch\n",
      "NI: 5 positives in this batch\n"
     ]
    },
    {
     "name": "stderr",
     "output_type": "stream",
     "text": [
      "Predicting:  27%|█████▊                | 4600/17302 [1:11:08<2:52:05,  1.23it/s]"
     ]
    },
    {
     "name": "stdout",
     "output_type": "stream",
     "text": [
      "\n",
      "Batch 4600/17302 (294,400 samples)\n",
      "Batch predictions:\n",
      "AU: 0 positives in this batch\n",
      "AG: 1 positives in this batch\n",
      "CU: 0 positives in this batch\n",
      "CO: 0 positives in this batch\n",
      "NI: 0 positives in this batch\n"
     ]
    },
    {
     "name": "stderr",
     "output_type": "stream",
     "text": [
      "Predicting:  27%|█████▉                | 4688/17302 [1:12:21<6:48:22,  1.94s/it]"
     ]
    },
    {
     "name": "stdout",
     "output_type": "stream",
     "text": [
      "\n",
      "==================================================\n",
      "SAVED CHUNK: /Users/ramiab/Desktop/Mineral-Predictions-Local/Training/data/output/CNN_output_batch_300032.csv\n",
      "Processed 300,032/1,107,289 points (27.1%)\n",
      "\n",
      "Cumulative prediction statistics:\n",
      "AU: 3,787 positive predictions (1.26%)\n",
      "AG: 14,680 positive predictions (4.89%)\n",
      "CU: 3,339 positive predictions (1.11%)\n",
      "CO: 5,637 positive predictions (1.88%)\n",
      "NI: 11,024 positive predictions (3.67%)\n",
      "==================================================\n",
      "\n"
     ]
    },
    {
     "name": "stderr",
     "output_type": "stream",
     "text": [
      "Predicting:  27%|█████▉                | 4700/17302 [1:12:30<2:42:39,  1.29it/s]"
     ]
    },
    {
     "name": "stdout",
     "output_type": "stream",
     "text": [
      "\n",
      "Batch 4700/17302 (300,800 samples)\n",
      "Batch predictions:\n",
      "AU: 0 positives in this batch\n",
      "AG: 2 positives in this batch\n",
      "CU: 1 positives in this batch\n",
      "CO: 0 positives in this batch\n",
      "NI: 1 positives in this batch\n"
     ]
    },
    {
     "name": "stderr",
     "output_type": "stream",
     "text": [
      "Predicting:  28%|██████                | 4800/17302 [1:13:49<2:43:32,  1.27it/s]"
     ]
    },
    {
     "name": "stdout",
     "output_type": "stream",
     "text": [
      "\n",
      "Batch 4800/17302 (307,200 samples)\n",
      "Batch predictions:\n",
      "AU: 2 positives in this batch\n",
      "AG: 2 positives in this batch\n",
      "CU: 0 positives in this batch\n",
      "CO: 1 positives in this batch\n",
      "NI: 13 positives in this batch\n"
     ]
    },
    {
     "name": "stderr",
     "output_type": "stream",
     "text": [
      "Predicting:  28%|██████▏               | 4900/17302 [1:15:08<2:45:37,  1.25it/s]"
     ]
    },
    {
     "name": "stdout",
     "output_type": "stream",
     "text": [
      "\n",
      "Batch 4900/17302 (313,600 samples)\n",
      "Batch predictions:\n",
      "AU: 3 positives in this batch\n",
      "AG: 2 positives in this batch\n",
      "CU: 1 positives in this batch\n",
      "CO: 2 positives in this batch\n",
      "NI: 2 positives in this batch\n"
     ]
    },
    {
     "name": "stderr",
     "output_type": "stream",
     "text": [
      "Predicting:  29%|██████▎               | 5000/17302 [1:16:29<2:42:17,  1.26it/s]"
     ]
    },
    {
     "name": "stdout",
     "output_type": "stream",
     "text": [
      "\n",
      "Batch 5000/17302 (320,000 samples)\n",
      "Batch predictions:\n",
      "AU: 2 positives in this batch\n",
      "AG: 2 positives in this batch\n",
      "CU: 0 positives in this batch\n",
      "CO: 0 positives in this batch\n",
      "NI: 0 positives in this batch\n"
     ]
    },
    {
     "name": "stderr",
     "output_type": "stream",
     "text": [
      "Predicting:  29%|██████▍               | 5100/17302 [1:17:49<3:02:45,  1.11it/s]"
     ]
    },
    {
     "name": "stdout",
     "output_type": "stream",
     "text": [
      "\n",
      "Batch 5100/17302 (326,400 samples)\n",
      "Batch predictions:\n",
      "AU: 0 positives in this batch\n",
      "AG: 1 positives in this batch\n",
      "CU: 1 positives in this batch\n",
      "CO: 3 positives in this batch\n",
      "NI: 1 positives in this batch\n"
     ]
    },
    {
     "name": "stderr",
     "output_type": "stream",
     "text": [
      "Predicting:  30%|██████▌               | 5200/17302 [1:19:06<2:38:35,  1.27it/s]"
     ]
    },
    {
     "name": "stdout",
     "output_type": "stream",
     "text": [
      "\n",
      "Batch 5200/17302 (332,800 samples)\n",
      "Batch predictions:\n",
      "AU: 1 positives in this batch\n",
      "AG: 5 positives in this batch\n",
      "CU: 0 positives in this batch\n",
      "CO: 0 positives in this batch\n",
      "NI: 2 positives in this batch\n"
     ]
    },
    {
     "name": "stderr",
     "output_type": "stream",
     "text": [
      "Predicting:  31%|██████▋               | 5300/17302 [1:20:26<2:36:06,  1.28it/s]"
     ]
    },
    {
     "name": "stdout",
     "output_type": "stream",
     "text": [
      "\n",
      "Batch 5300/17302 (339,200 samples)\n",
      "Batch predictions:\n",
      "AU: 0 positives in this batch\n",
      "AG: 4 positives in this batch\n",
      "CU: 0 positives in this batch\n",
      "CO: 0 positives in this batch\n",
      "NI: 2 positives in this batch\n"
     ]
    },
    {
     "name": "stderr",
     "output_type": "stream",
     "text": [
      "Predicting:  31%|██████▊               | 5400/17302 [1:21:45<2:32:24,  1.30it/s]"
     ]
    },
    {
     "name": "stdout",
     "output_type": "stream",
     "text": [
      "\n",
      "Batch 5400/17302 (345,600 samples)\n",
      "Batch predictions:\n",
      "AU: 1 positives in this batch\n",
      "AG: 5 positives in this batch\n",
      "CU: 4 positives in this batch\n",
      "CO: 5 positives in this batch\n",
      "NI: 5 positives in this batch\n"
     ]
    },
    {
     "name": "stderr",
     "output_type": "stream",
     "text": [
      "Predicting:  32%|██████▉               | 5500/17302 [1:23:02<2:25:32,  1.35it/s]"
     ]
    },
    {
     "name": "stdout",
     "output_type": "stream",
     "text": [
      "\n",
      "Batch 5500/17302 (352,000 samples)\n",
      "Batch predictions:\n",
      "AU: 0 positives in this batch\n",
      "AG: 5 positives in this batch\n",
      "CU: 3 positives in this batch\n",
      "CO: 5 positives in this batch\n",
      "NI: 9 positives in this batch\n"
     ]
    },
    {
     "name": "stderr",
     "output_type": "stream",
     "text": [
      "Predicting:  32%|███████               | 5600/17302 [1:24:20<2:35:40,  1.25it/s]"
     ]
    },
    {
     "name": "stdout",
     "output_type": "stream",
     "text": [
      "\n",
      "Batch 5600/17302 (358,400 samples)\n",
      "Batch predictions:\n",
      "AU: 1 positives in this batch\n",
      "AG: 0 positives in this batch\n",
      "CU: 0 positives in this batch\n",
      "CO: 0 positives in this batch\n",
      "NI: 0 positives in this batch\n"
     ]
    },
    {
     "name": "stderr",
     "output_type": "stream",
     "text": [
      "Predicting:  33%|███████▏              | 5700/17302 [1:25:37<2:17:34,  1.41it/s]"
     ]
    },
    {
     "name": "stdout",
     "output_type": "stream",
     "text": [
      "\n",
      "Batch 5700/17302 (364,800 samples)\n",
      "Batch predictions:\n",
      "AU: 3 positives in this batch\n",
      "AG: 3 positives in this batch\n",
      "CU: 0 positives in this batch\n",
      "CO: 0 positives in this batch\n",
      "NI: 0 positives in this batch\n"
     ]
    },
    {
     "name": "stderr",
     "output_type": "stream",
     "text": [
      "Predicting:  34%|███████▎              | 5800/17302 [1:26:53<2:32:36,  1.26it/s]"
     ]
    },
    {
     "name": "stdout",
     "output_type": "stream",
     "text": [
      "\n",
      "Batch 5800/17302 (371,200 samples)\n",
      "Batch predictions:\n",
      "AU: 1 positives in this batch\n",
      "AG: 10 positives in this batch\n",
      "CU: 2 positives in this batch\n",
      "CO: 3 positives in this batch\n",
      "NI: 2 positives in this batch\n"
     ]
    },
    {
     "name": "stderr",
     "output_type": "stream",
     "text": [
      "Predicting:  34%|███████▌              | 5900/17302 [1:28:10<2:23:15,  1.33it/s]"
     ]
    },
    {
     "name": "stdout",
     "output_type": "stream",
     "text": [
      "\n",
      "Batch 5900/17302 (377,600 samples)\n",
      "Batch predictions:\n",
      "AU: 0 positives in this batch\n",
      "AG: 0 positives in this batch\n",
      "CU: 0 positives in this batch\n",
      "CO: 0 positives in this batch\n",
      "NI: 1 positives in this batch\n"
     ]
    },
    {
     "name": "stderr",
     "output_type": "stream",
     "text": [
      "Predicting:  35%|███████▋              | 6000/17302 [1:29:26<2:21:45,  1.33it/s]"
     ]
    },
    {
     "name": "stdout",
     "output_type": "stream",
     "text": [
      "\n",
      "Batch 6000/17302 (384,000 samples)\n",
      "Batch predictions:\n",
      "AU: 1 positives in this batch\n",
      "AG: 7 positives in this batch\n",
      "CU: 2 positives in this batch\n",
      "CO: 4 positives in this batch\n",
      "NI: 3 positives in this batch\n"
     ]
    },
    {
     "name": "stderr",
     "output_type": "stream",
     "text": [
      "Predicting:  35%|███████▊              | 6100/17302 [1:30:45<2:34:03,  1.21it/s]"
     ]
    },
    {
     "name": "stdout",
     "output_type": "stream",
     "text": [
      "\n",
      "Batch 6100/17302 (390,400 samples)\n",
      "Batch predictions:\n",
      "AU: 0 positives in this batch\n",
      "AG: 4 positives in this batch\n",
      "CU: 1 positives in this batch\n",
      "CO: 1 positives in this batch\n",
      "NI: 1 positives in this batch\n"
     ]
    },
    {
     "name": "stderr",
     "output_type": "stream",
     "text": [
      "Predicting:  36%|███████▉              | 6200/17302 [1:32:08<2:47:02,  1.11it/s]"
     ]
    },
    {
     "name": "stdout",
     "output_type": "stream",
     "text": [
      "\n",
      "Batch 6200/17302 (396,800 samples)\n",
      "Batch predictions:\n",
      "AU: 0 positives in this batch\n",
      "AG: 7 positives in this batch\n",
      "CU: 3 positives in this batch\n",
      "CO: 4 positives in this batch\n",
      "NI: 10 positives in this batch\n"
     ]
    },
    {
     "name": "stderr",
     "output_type": "stream",
     "text": [
      "Predicting:  36%|███████▉              | 6250/17302 [1:32:57<8:45:08,  2.85s/it]"
     ]
    },
    {
     "name": "stdout",
     "output_type": "stream",
     "text": [
      "\n",
      "==================================================\n",
      "SAVED CHUNK: /Users/ramiab/Desktop/Mineral-Predictions-Local/Training/data/output/CNN_output_batch_400000.csv\n",
      "Processed 400,000/1,107,289 points (36.1%)\n",
      "\n",
      "Cumulative prediction statistics:\n",
      "AU: 5,079 positive predictions (1.27%)\n",
      "AG: 21,349 positive predictions (5.34%)\n",
      "CU: 4,934 positive predictions (1.23%)\n",
      "CO: 8,715 positive predictions (2.18%)\n",
      "NI: 16,045 positive predictions (4.01%)\n",
      "==================================================\n",
      "\n"
     ]
    },
    {
     "name": "stderr",
     "output_type": "stream",
     "text": [
      "Predicting:  36%|████████              | 6300/17302 [1:33:37<2:25:22,  1.26it/s]"
     ]
    },
    {
     "name": "stdout",
     "output_type": "stream",
     "text": [
      "\n",
      "Batch 6300/17302 (403,200 samples)\n",
      "Batch predictions:\n",
      "AU: 0 positives in this batch\n",
      "AG: 18 positives in this batch\n",
      "CU: 1 positives in this batch\n",
      "CO: 1 positives in this batch\n",
      "NI: 1 positives in this batch\n"
     ]
    },
    {
     "name": "stderr",
     "output_type": "stream",
     "text": [
      "Predicting:  37%|████████▏             | 6400/17302 [1:34:57<2:29:16,  1.22it/s]"
     ]
    },
    {
     "name": "stdout",
     "output_type": "stream",
     "text": [
      "\n",
      "Batch 6400/17302 (409,600 samples)\n",
      "Batch predictions:\n",
      "AU: 0 positives in this batch\n",
      "AG: 0 positives in this batch\n",
      "CU: 0 positives in this batch\n",
      "CO: 0 positives in this batch\n",
      "NI: 1 positives in this batch\n"
     ]
    },
    {
     "name": "stderr",
     "output_type": "stream",
     "text": [
      "Predicting:  38%|████████▎             | 6500/17302 [1:36:21<2:24:25,  1.25it/s]"
     ]
    },
    {
     "name": "stdout",
     "output_type": "stream",
     "text": [
      "\n",
      "Batch 6500/17302 (416,000 samples)\n",
      "Batch predictions:\n",
      "AU: 0 positives in this batch\n",
      "AG: 0 positives in this batch\n",
      "CU: 1 positives in this batch\n",
      "CO: 10 positives in this batch\n",
      "NI: 19 positives in this batch\n"
     ]
    },
    {
     "name": "stderr",
     "output_type": "stream",
     "text": [
      "Predicting:  38%|████████▍             | 6600/17302 [1:37:45<2:20:14,  1.27it/s]"
     ]
    },
    {
     "name": "stdout",
     "output_type": "stream",
     "text": [
      "\n",
      "Batch 6600/17302 (422,400 samples)\n",
      "Batch predictions:\n",
      "AU: 0 positives in this batch\n",
      "AG: 3 positives in this batch\n",
      "CU: 3 positives in this batch\n",
      "CO: 8 positives in this batch\n",
      "NI: 7 positives in this batch\n"
     ]
    },
    {
     "name": "stderr",
     "output_type": "stream",
     "text": [
      "Predicting:  39%|████████▌             | 6700/17302 [1:39:03<2:11:18,  1.35it/s]"
     ]
    },
    {
     "name": "stdout",
     "output_type": "stream",
     "text": [
      "\n",
      "Batch 6700/17302 (428,800 samples)\n",
      "Batch predictions:\n",
      "AU: 0 positives in this batch\n",
      "AG: 1 positives in this batch\n",
      "CU: 0 positives in this batch\n",
      "CO: 0 positives in this batch\n",
      "NI: 1 positives in this batch\n"
     ]
    },
    {
     "name": "stderr",
     "output_type": "stream",
     "text": [
      "Predicting:  39%|████████▋             | 6800/17302 [1:40:24<2:29:23,  1.17it/s]"
     ]
    },
    {
     "name": "stdout",
     "output_type": "stream",
     "text": [
      "\n",
      "Batch 6800/17302 (435,200 samples)\n",
      "Batch predictions:\n",
      "AU: 0 positives in this batch\n",
      "AG: 8 positives in this batch\n",
      "CU: 3 positives in this batch\n",
      "CO: 2 positives in this batch\n",
      "NI: 3 positives in this batch\n"
     ]
    },
    {
     "name": "stderr",
     "output_type": "stream",
     "text": [
      "Predicting:  40%|████████▊             | 6900/17302 [1:41:43<2:10:01,  1.33it/s]"
     ]
    },
    {
     "name": "stdout",
     "output_type": "stream",
     "text": [
      "\n",
      "Batch 6900/17302 (441,600 samples)\n",
      "Batch predictions:\n",
      "AU: 0 positives in this batch\n",
      "AG: 5 positives in this batch\n",
      "CU: 0 positives in this batch\n",
      "CO: 1 positives in this batch\n",
      "NI: 0 positives in this batch\n"
     ]
    },
    {
     "name": "stderr",
     "output_type": "stream",
     "text": [
      "Predicting:  40%|████████▉             | 7000/17302 [1:43:02<2:19:56,  1.23it/s]"
     ]
    },
    {
     "name": "stdout",
     "output_type": "stream",
     "text": [
      "\n",
      "Batch 7000/17302 (448,000 samples)\n",
      "Batch predictions:\n",
      "AU: 0 positives in this batch\n",
      "AG: 1 positives in this batch\n",
      "CU: 1 positives in this batch\n",
      "CO: 0 positives in this batch\n",
      "NI: 0 positives in this batch\n"
     ]
    },
    {
     "name": "stderr",
     "output_type": "stream",
     "text": [
      "Predicting:  41%|█████████             | 7100/17302 [1:44:22<2:14:10,  1.27it/s]"
     ]
    },
    {
     "name": "stdout",
     "output_type": "stream",
     "text": [
      "\n",
      "Batch 7100/17302 (454,400 samples)\n",
      "Batch predictions:\n",
      "AU: 0 positives in this batch\n",
      "AG: 1 positives in this batch\n",
      "CU: 0 positives in this batch\n",
      "CO: 0 positives in this batch\n",
      "NI: 2 positives in this batch\n"
     ]
    },
    {
     "name": "stderr",
     "output_type": "stream",
     "text": [
      "Predicting:  42%|█████████▏            | 7200/17302 [1:45:38<2:18:34,  1.21it/s]"
     ]
    },
    {
     "name": "stdout",
     "output_type": "stream",
     "text": [
      "\n",
      "Batch 7200/17302 (460,800 samples)\n",
      "Batch predictions:\n",
      "AU: 2 positives in this batch\n",
      "AG: 8 positives in this batch\n",
      "CU: 1 positives in this batch\n",
      "CO: 2 positives in this batch\n",
      "NI: 4 positives in this batch\n"
     ]
    },
    {
     "name": "stderr",
     "output_type": "stream",
     "text": [
      "Predicting:  42%|█████████▎            | 7300/17302 [1:46:58<2:14:41,  1.24it/s]"
     ]
    },
    {
     "name": "stdout",
     "output_type": "stream",
     "text": [
      "\n",
      "Batch 7300/17302 (467,200 samples)\n",
      "Batch predictions:\n",
      "AU: 0 positives in this batch\n",
      "AG: 2 positives in this batch\n",
      "CU: 0 positives in this batch\n",
      "CO: 0 positives in this batch\n",
      "NI: 2 positives in this batch\n"
     ]
    },
    {
     "name": "stderr",
     "output_type": "stream",
     "text": [
      "Predicting:  43%|█████████▍            | 7400/17302 [1:48:17<2:04:48,  1.32it/s]"
     ]
    },
    {
     "name": "stdout",
     "output_type": "stream",
     "text": [
      "\n",
      "Batch 7400/17302 (473,600 samples)\n",
      "Batch predictions:\n",
      "AU: 3 positives in this batch\n",
      "AG: 7 positives in this batch\n",
      "CU: 4 positives in this batch\n",
      "CO: 5 positives in this batch\n",
      "NI: 12 positives in this batch\n"
     ]
    },
    {
     "name": "stderr",
     "output_type": "stream",
     "text": [
      "Predicting:  43%|█████████▌            | 7500/17302 [1:49:35<2:09:57,  1.26it/s]"
     ]
    },
    {
     "name": "stdout",
     "output_type": "stream",
     "text": [
      "\n",
      "Batch 7500/17302 (480,000 samples)\n",
      "Batch predictions:\n",
      "AU: 1 positives in this batch\n",
      "AG: 5 positives in this batch\n",
      "CU: 1 positives in this batch\n",
      "CO: 8 positives in this batch\n",
      "NI: 15 positives in this batch\n"
     ]
    },
    {
     "name": "stderr",
     "output_type": "stream",
     "text": [
      "Predicting:  44%|█████████▋            | 7600/17302 [1:50:54<1:59:53,  1.35it/s]"
     ]
    },
    {
     "name": "stdout",
     "output_type": "stream",
     "text": [
      "\n",
      "Batch 7600/17302 (486,400 samples)\n",
      "Batch predictions:\n",
      "AU: 0 positives in this batch\n",
      "AG: 5 positives in this batch\n",
      "CU: 2 positives in this batch\n",
      "CO: 5 positives in this batch\n",
      "NI: 11 positives in this batch\n"
     ]
    },
    {
     "name": "stderr",
     "output_type": "stream",
     "text": [
      "Predicting:  45%|█████████▊            | 7700/17302 [1:52:11<2:04:36,  1.28it/s]"
     ]
    },
    {
     "name": "stdout",
     "output_type": "stream",
     "text": [
      "\n",
      "Batch 7700/17302 (492,800 samples)\n",
      "Batch predictions:\n",
      "AU: 0 positives in this batch\n",
      "AG: 4 positives in this batch\n",
      "CU: 1 positives in this batch\n",
      "CO: 3 positives in this batch\n",
      "NI: 4 positives in this batch\n"
     ]
    },
    {
     "name": "stderr",
     "output_type": "stream",
     "text": [
      "Predicting:  45%|█████████▉            | 7800/17302 [1:53:30<2:03:28,  1.28it/s]"
     ]
    },
    {
     "name": "stdout",
     "output_type": "stream",
     "text": [
      "\n",
      "Batch 7800/17302 (499,200 samples)\n",
      "Batch predictions:\n",
      "AU: 1 positives in this batch\n",
      "AG: 11 positives in this batch\n",
      "CU: 3 positives in this batch\n",
      "CO: 7 positives in this batch\n",
      "NI: 7 positives in this batch\n"
     ]
    },
    {
     "name": "stderr",
     "output_type": "stream",
     "text": [
      "Predicting:  45%|█████████▉            | 7813/17302 [1:53:47<7:41:27,  2.92s/it]"
     ]
    },
    {
     "name": "stdout",
     "output_type": "stream",
     "text": [
      "\n",
      "==================================================\n",
      "SAVED CHUNK: /Users/ramiab/Desktop/Mineral-Predictions-Local/Training/data/output/CNN_output_batch_500032.csv\n",
      "Processed 500,032/1,107,289 points (45.2%)\n",
      "\n",
      "Cumulative prediction statistics:\n",
      "AU: 5,979 positive predictions (1.20%)\n",
      "AG: 27,763 positive predictions (5.55%)\n",
      "CU: 6,538 positive predictions (1.31%)\n",
      "CO: 12,116 positive predictions (2.42%)\n",
      "NI: 21,814 positive predictions (4.36%)\n",
      "==================================================\n",
      "\n"
     ]
    },
    {
     "name": "stderr",
     "output_type": "stream",
     "text": [
      "Predicting:  46%|██████████            | 7900/17302 [1:54:56<2:09:07,  1.21it/s]"
     ]
    },
    {
     "name": "stdout",
     "output_type": "stream",
     "text": [
      "\n",
      "Batch 7900/17302 (505,600 samples)\n",
      "Batch predictions:\n",
      "AU: 0 positives in this batch\n",
      "AG: 7 positives in this batch\n",
      "CU: 3 positives in this batch\n",
      "CO: 3 positives in this batch\n",
      "NI: 9 positives in this batch\n"
     ]
    },
    {
     "name": "stderr",
     "output_type": "stream",
     "text": [
      "Predicting:  46%|██████████▏           | 8000/17302 [1:56:18<2:07:44,  1.21it/s]"
     ]
    },
    {
     "name": "stdout",
     "output_type": "stream",
     "text": [
      "\n",
      "Batch 8000/17302 (512,000 samples)\n",
      "Batch predictions:\n",
      "AU: 0 positives in this batch\n",
      "AG: 4 positives in this batch\n",
      "CU: 5 positives in this batch\n",
      "CO: 9 positives in this batch\n",
      "NI: 18 positives in this batch\n"
     ]
    },
    {
     "name": "stderr",
     "output_type": "stream",
     "text": [
      "Predicting:  47%|██████████▎           | 8100/17302 [1:57:38<1:54:14,  1.34it/s]"
     ]
    },
    {
     "name": "stdout",
     "output_type": "stream",
     "text": [
      "\n",
      "Batch 8100/17302 (518,400 samples)\n",
      "Batch predictions:\n",
      "AU: 0 positives in this batch\n",
      "AG: 2 positives in this batch\n",
      "CU: 0 positives in this batch\n",
      "CO: 2 positives in this batch\n",
      "NI: 1 positives in this batch\n"
     ]
    },
    {
     "name": "stderr",
     "output_type": "stream",
     "text": [
      "Predicting:  47%|██████████▍           | 8200/17302 [1:58:54<1:57:13,  1.29it/s]"
     ]
    },
    {
     "name": "stdout",
     "output_type": "stream",
     "text": [
      "\n",
      "Batch 8200/17302 (524,800 samples)\n",
      "Batch predictions:\n",
      "AU: 1 positives in this batch\n",
      "AG: 2 positives in this batch\n",
      "CU: 2 positives in this batch\n",
      "CO: 2 positives in this batch\n",
      "NI: 2 positives in this batch\n"
     ]
    },
    {
     "name": "stderr",
     "output_type": "stream",
     "text": [
      "Predicting:  48%|██████████▌           | 8300/17302 [2:00:12<1:56:51,  1.28it/s]"
     ]
    },
    {
     "name": "stdout",
     "output_type": "stream",
     "text": [
      "\n",
      "Batch 8300/17302 (531,200 samples)\n",
      "Batch predictions:\n",
      "AU: 2 positives in this batch\n",
      "AG: 4 positives in this batch\n",
      "CU: 2 positives in this batch\n",
      "CO: 0 positives in this batch\n",
      "NI: 5 positives in this batch\n"
     ]
    },
    {
     "name": "stderr",
     "output_type": "stream",
     "text": [
      "Predicting:  49%|██████████▋           | 8400/17302 [2:01:30<1:52:18,  1.32it/s]"
     ]
    },
    {
     "name": "stdout",
     "output_type": "stream",
     "text": [
      "\n",
      "Batch 8400/17302 (537,600 samples)\n",
      "Batch predictions:\n",
      "AU: 0 positives in this batch\n",
      "AG: 10 positives in this batch\n",
      "CU: 0 positives in this batch\n",
      "CO: 0 positives in this batch\n",
      "NI: 0 positives in this batch\n"
     ]
    },
    {
     "name": "stderr",
     "output_type": "stream",
     "text": [
      "Predicting:  49%|██████████▊           | 8500/17302 [2:02:45<1:45:54,  1.39it/s]"
     ]
    },
    {
     "name": "stdout",
     "output_type": "stream",
     "text": [
      "\n",
      "Batch 8500/17302 (544,000 samples)\n",
      "Batch predictions:\n",
      "AU: 0 positives in this batch\n",
      "AG: 4 positives in this batch\n",
      "CU: 0 positives in this batch\n",
      "CO: 2 positives in this batch\n",
      "NI: 3 positives in this batch\n"
     ]
    },
    {
     "name": "stderr",
     "output_type": "stream",
     "text": [
      "Predicting:  50%|██████████▉           | 8600/17302 [2:03:59<1:52:14,  1.29it/s]"
     ]
    },
    {
     "name": "stdout",
     "output_type": "stream",
     "text": [
      "\n",
      "Batch 8600/17302 (550,400 samples)\n",
      "Batch predictions:\n",
      "AU: 1 positives in this batch\n",
      "AG: 4 positives in this batch\n",
      "CU: 1 positives in this batch\n",
      "CO: 3 positives in this batch\n",
      "NI: 8 positives in this batch\n"
     ]
    },
    {
     "name": "stderr",
     "output_type": "stream",
     "text": [
      "Predicting:  50%|███████████           | 8700/17302 [2:05:18<1:49:10,  1.31it/s]"
     ]
    },
    {
     "name": "stdout",
     "output_type": "stream",
     "text": [
      "\n",
      "Batch 8700/17302 (556,800 samples)\n",
      "Batch predictions:\n",
      "AU: 0 positives in this batch\n",
      "AG: 5 positives in this batch\n",
      "CU: 5 positives in this batch\n",
      "CO: 6 positives in this batch\n",
      "NI: 7 positives in this batch\n"
     ]
    },
    {
     "name": "stderr",
     "output_type": "stream",
     "text": [
      "Predicting:  51%|███████████▏          | 8800/17302 [2:06:38<1:51:44,  1.27it/s]"
     ]
    },
    {
     "name": "stdout",
     "output_type": "stream",
     "text": [
      "\n",
      "Batch 8800/17302 (563,200 samples)\n",
      "Batch predictions:\n",
      "AU: 1 positives in this batch\n",
      "AG: 6 positives in this batch\n",
      "CU: 5 positives in this batch\n",
      "CO: 8 positives in this batch\n",
      "NI: 4 positives in this batch\n"
     ]
    },
    {
     "name": "stderr",
     "output_type": "stream",
     "text": [
      "Predicting:  51%|███████████▎          | 8900/17302 [2:07:58<1:43:00,  1.36it/s]"
     ]
    },
    {
     "name": "stdout",
     "output_type": "stream",
     "text": [
      "\n",
      "Batch 8900/17302 (569,600 samples)\n",
      "Batch predictions:\n",
      "AU: 0 positives in this batch\n",
      "AG: 2 positives in this batch\n",
      "CU: 0 positives in this batch\n",
      "CO: 0 positives in this batch\n",
      "NI: 0 positives in this batch\n"
     ]
    },
    {
     "name": "stderr",
     "output_type": "stream",
     "text": [
      "Predicting:  52%|███████████▍          | 9000/17302 [2:09:14<1:49:45,  1.26it/s]"
     ]
    },
    {
     "name": "stdout",
     "output_type": "stream",
     "text": [
      "\n",
      "Batch 9000/17302 (576,000 samples)\n",
      "Batch predictions:\n",
      "AU: 1 positives in this batch\n",
      "AG: 7 positives in this batch\n",
      "CU: 2 positives in this batch\n",
      "CO: 5 positives in this batch\n",
      "NI: 6 positives in this batch\n"
     ]
    },
    {
     "name": "stderr",
     "output_type": "stream",
     "text": [
      "Predicting:  53%|███████████▌          | 9100/17302 [2:10:33<1:58:34,  1.15it/s]"
     ]
    },
    {
     "name": "stdout",
     "output_type": "stream",
     "text": [
      "\n",
      "Batch 9100/17302 (582,400 samples)\n",
      "Batch predictions:\n",
      "AU: 0 positives in this batch\n",
      "AG: 4 positives in this batch\n",
      "CU: 0 positives in this batch\n",
      "CO: 0 positives in this batch\n",
      "NI: 0 positives in this batch\n"
     ]
    },
    {
     "name": "stderr",
     "output_type": "stream",
     "text": [
      "Predicting:  53%|███████████▋          | 9200/17302 [2:11:50<1:40:50,  1.34it/s]"
     ]
    },
    {
     "name": "stdout",
     "output_type": "stream",
     "text": [
      "\n",
      "Batch 9200/17302 (588,800 samples)\n",
      "Batch predictions:\n",
      "AU: 0 positives in this batch\n",
      "AG: 3 positives in this batch\n",
      "CU: 0 positives in this batch\n",
      "CO: 0 positives in this batch\n",
      "NI: 1 positives in this batch\n"
     ]
    },
    {
     "name": "stderr",
     "output_type": "stream",
     "text": [
      "Predicting:  54%|███████████▊          | 9300/17302 [2:13:09<1:44:32,  1.28it/s]"
     ]
    },
    {
     "name": "stdout",
     "output_type": "stream",
     "text": [
      "\n",
      "Batch 9300/17302 (595,200 samples)\n",
      "Batch predictions:\n",
      "AU: 0 positives in this batch\n",
      "AG: 7 positives in this batch\n",
      "CU: 0 positives in this batch\n",
      "CO: 0 positives in this batch\n",
      "NI: 0 positives in this batch\n"
     ]
    },
    {
     "name": "stderr",
     "output_type": "stream",
     "text": [
      "Predicting:  54%|███████████▉          | 9375/17302 [2:14:16<6:16:20,  2.85s/it]"
     ]
    },
    {
     "name": "stdout",
     "output_type": "stream",
     "text": [
      "\n",
      "==================================================\n",
      "SAVED CHUNK: /Users/ramiab/Desktop/Mineral-Predictions-Local/Training/data/output/CNN_output_batch_600000.csv\n",
      "Processed 600,000/1,107,289 points (54.2%)\n",
      "\n",
      "Cumulative prediction statistics:\n",
      "AU: 6,882 positive predictions (1.15%)\n",
      "AG: 33,943 positive predictions (5.66%)\n",
      "CU: 8,076 positive predictions (1.35%)\n",
      "CO: 15,023 positive predictions (2.50%)\n",
      "NI: 26,999 positive predictions (4.50%)\n",
      "==================================================\n",
      "\n"
     ]
    },
    {
     "name": "stderr",
     "output_type": "stream",
     "text": [
      "Predicting:  54%|███████████▉          | 9400/17302 [2:14:36<1:41:22,  1.30it/s]"
     ]
    },
    {
     "name": "stdout",
     "output_type": "stream",
     "text": [
      "\n",
      "Batch 9400/17302 (601,600 samples)\n",
      "Batch predictions:\n",
      "AU: 0 positives in this batch\n",
      "AG: 2 positives in this batch\n",
      "CU: 0 positives in this batch\n",
      "CO: 1 positives in this batch\n",
      "NI: 1 positives in this batch\n"
     ]
    },
    {
     "name": "stderr",
     "output_type": "stream",
     "text": [
      "Predicting:  55%|████████████          | 9500/17302 [2:15:56<1:49:18,  1.19it/s]"
     ]
    },
    {
     "name": "stdout",
     "output_type": "stream",
     "text": [
      "\n",
      "Batch 9500/17302 (608,000 samples)\n",
      "Batch predictions:\n",
      "AU: 1 positives in this batch\n",
      "AG: 3 positives in this batch\n",
      "CU: 0 positives in this batch\n",
      "CO: 0 positives in this batch\n",
      "NI: 0 positives in this batch\n"
     ]
    },
    {
     "name": "stderr",
     "output_type": "stream",
     "text": [
      "Predicting:  55%|████████████▏         | 9600/17302 [2:17:17<1:35:43,  1.34it/s]"
     ]
    },
    {
     "name": "stdout",
     "output_type": "stream",
     "text": [
      "\n",
      "Batch 9600/17302 (614,400 samples)\n",
      "Batch predictions:\n",
      "AU: 6 positives in this batch\n",
      "AG: 10 positives in this batch\n",
      "CU: 4 positives in this batch\n",
      "CO: 2 positives in this batch\n",
      "NI: 3 positives in this batch\n"
     ]
    },
    {
     "name": "stderr",
     "output_type": "stream",
     "text": [
      "Predicting:  56%|████████████▎         | 9700/17302 [2:18:34<1:30:40,  1.40it/s]"
     ]
    },
    {
     "name": "stdout",
     "output_type": "stream",
     "text": [
      "\n",
      "Batch 9700/17302 (620,800 samples)\n",
      "Batch predictions:\n",
      "AU: 1 positives in this batch\n",
      "AG: 5 positives in this batch\n",
      "CU: 3 positives in this batch\n",
      "CO: 10 positives in this batch\n",
      "NI: 11 positives in this batch\n"
     ]
    },
    {
     "name": "stderr",
     "output_type": "stream",
     "text": [
      "Predicting:  57%|████████████▍         | 9800/17302 [2:19:51<1:33:39,  1.33it/s]"
     ]
    },
    {
     "name": "stdout",
     "output_type": "stream",
     "text": [
      "\n",
      "Batch 9800/17302 (627,200 samples)\n",
      "Batch predictions:\n",
      "AU: 3 positives in this batch\n",
      "AG: 6 positives in this batch\n",
      "CU: 3 positives in this batch\n",
      "CO: 2 positives in this batch\n",
      "NI: 2 positives in this batch\n"
     ]
    },
    {
     "name": "stderr",
     "output_type": "stream",
     "text": [
      "Predicting:  57%|████████████▌         | 9900/17302 [2:21:02<1:24:31,  1.46it/s]"
     ]
    },
    {
     "name": "stdout",
     "output_type": "stream",
     "text": [
      "\n",
      "Batch 9900/17302 (633,600 samples)\n",
      "Batch predictions:\n",
      "AU: 0 positives in this batch\n",
      "AG: 6 positives in this batch\n",
      "CU: 1 positives in this batch\n",
      "CO: 1 positives in this batch\n",
      "NI: 1 positives in this batch\n"
     ]
    },
    {
     "name": "stderr",
     "output_type": "stream",
     "text": [
      "Predicting:  58%|████████████▏        | 10000/17302 [2:22:18<1:30:50,  1.34it/s]"
     ]
    },
    {
     "name": "stdout",
     "output_type": "stream",
     "text": [
      "\n",
      "Batch 10000/17302 (640,000 samples)\n",
      "Batch predictions:\n",
      "AU: 1 positives in this batch\n",
      "AG: 0 positives in this batch\n",
      "CU: 2 positives in this batch\n",
      "CO: 3 positives in this batch\n",
      "NI: 9 positives in this batch\n"
     ]
    },
    {
     "name": "stderr",
     "output_type": "stream",
     "text": [
      "Predicting:  58%|████████████▎        | 10100/17302 [2:23:40<1:38:35,  1.22it/s]"
     ]
    },
    {
     "name": "stdout",
     "output_type": "stream",
     "text": [
      "\n",
      "Batch 10100/17302 (646,400 samples)\n",
      "Batch predictions:\n",
      "AU: 0 positives in this batch\n",
      "AG: 3 positives in this batch\n",
      "CU: 1 positives in this batch\n",
      "CO: 3 positives in this batch\n",
      "NI: 4 positives in this batch\n"
     ]
    },
    {
     "name": "stderr",
     "output_type": "stream",
     "text": [
      "Predicting:  59%|████████████▍        | 10200/17302 [2:25:04<1:42:44,  1.15it/s]"
     ]
    },
    {
     "name": "stdout",
     "output_type": "stream",
     "text": [
      "\n",
      "Batch 10200/17302 (652,800 samples)\n",
      "Batch predictions:\n",
      "AU: 2 positives in this batch\n",
      "AG: 4 positives in this batch\n",
      "CU: 0 positives in this batch\n",
      "CO: 2 positives in this batch\n",
      "NI: 4 positives in this batch\n"
     ]
    },
    {
     "name": "stderr",
     "output_type": "stream",
     "text": [
      "Predicting:  60%|████████████▌        | 10300/17302 [2:26:26<1:35:03,  1.23it/s]"
     ]
    },
    {
     "name": "stdout",
     "output_type": "stream",
     "text": [
      "\n",
      "Batch 10300/17302 (659,200 samples)\n",
      "Batch predictions:\n",
      "AU: 0 positives in this batch\n",
      "AG: 5 positives in this batch\n",
      "CU: 6 positives in this batch\n",
      "CO: 7 positives in this batch\n",
      "NI: 9 positives in this batch\n"
     ]
    },
    {
     "name": "stderr",
     "output_type": "stream",
     "text": [
      "Predicting:  60%|████████████▌        | 10400/17302 [2:27:48<1:30:33,  1.27it/s]"
     ]
    },
    {
     "name": "stdout",
     "output_type": "stream",
     "text": [
      "\n",
      "Batch 10400/17302 (665,600 samples)\n",
      "Batch predictions:\n",
      "AU: 1 positives in this batch\n",
      "AG: 6 positives in this batch\n",
      "CU: 1 positives in this batch\n",
      "CO: 1 positives in this batch\n",
      "NI: 1 positives in this batch\n"
     ]
    },
    {
     "name": "stderr",
     "output_type": "stream",
     "text": [
      "Predicting:  61%|████████████▋        | 10500/17302 [2:29:07<1:32:06,  1.23it/s]"
     ]
    },
    {
     "name": "stdout",
     "output_type": "stream",
     "text": [
      "\n",
      "Batch 10500/17302 (672,000 samples)\n",
      "Batch predictions:\n",
      "AU: 4 positives in this batch\n",
      "AG: 8 positives in this batch\n",
      "CU: 4 positives in this batch\n",
      "CO: 4 positives in this batch\n",
      "NI: 8 positives in this batch\n"
     ]
    },
    {
     "name": "stderr",
     "output_type": "stream",
     "text": [
      "Predicting:  61%|████████████▊        | 10600/17302 [2:30:30<1:39:58,  1.12it/s]"
     ]
    },
    {
     "name": "stdout",
     "output_type": "stream",
     "text": [
      "\n",
      "Batch 10600/17302 (678,400 samples)\n",
      "Batch predictions:\n",
      "AU: 0 positives in this batch\n",
      "AG: 11 positives in this batch\n",
      "CU: 0 positives in this batch\n",
      "CO: 0 positives in this batch\n",
      "NI: 0 positives in this batch\n"
     ]
    },
    {
     "name": "stderr",
     "output_type": "stream",
     "text": [
      "Predicting:  62%|████████████▉        | 10700/17302 [2:31:53<1:37:14,  1.13it/s]"
     ]
    },
    {
     "name": "stdout",
     "output_type": "stream",
     "text": [
      "\n",
      "Batch 10700/17302 (684,800 samples)\n",
      "Batch predictions:\n",
      "AU: 1 positives in this batch\n",
      "AG: 1 positives in this batch\n",
      "CU: 0 positives in this batch\n",
      "CO: 0 positives in this batch\n",
      "NI: 0 positives in this batch\n"
     ]
    },
    {
     "name": "stderr",
     "output_type": "stream",
     "text": [
      "Predicting:  62%|█████████████        | 10800/17302 [2:33:15<1:33:41,  1.16it/s]"
     ]
    },
    {
     "name": "stdout",
     "output_type": "stream",
     "text": [
      "\n",
      "Batch 10800/17302 (691,200 samples)\n",
      "Batch predictions:\n",
      "AU: 0 positives in this batch\n",
      "AG: 2 positives in this batch\n",
      "CU: 0 positives in this batch\n",
      "CO: 0 positives in this batch\n",
      "NI: 0 positives in this batch\n"
     ]
    },
    {
     "name": "stderr",
     "output_type": "stream",
     "text": [
      "Predicting:  63%|█████████████▏       | 10900/17302 [2:34:40<1:31:19,  1.17it/s]"
     ]
    },
    {
     "name": "stdout",
     "output_type": "stream",
     "text": [
      "\n",
      "Batch 10900/17302 (697,600 samples)\n",
      "Batch predictions:\n",
      "AU: 0 positives in this batch\n",
      "AG: 6 positives in this batch\n",
      "CU: 2 positives in this batch\n",
      "CO: 2 positives in this batch\n",
      "NI: 5 positives in this batch\n"
     ]
    },
    {
     "name": "stderr",
     "output_type": "stream",
     "text": [
      "Predicting:  63%|█████████████▎       | 10938/17302 [2:35:20<6:27:52,  3.66s/it]"
     ]
    },
    {
     "name": "stdout",
     "output_type": "stream",
     "text": [
      "\n",
      "==================================================\n",
      "SAVED CHUNK: /Users/ramiab/Desktop/Mineral-Predictions-Local/Training/data/output/CNN_output_batch_700032.csv\n",
      "Processed 700,032/1,107,289 points (63.2%)\n",
      "\n",
      "Cumulative prediction statistics:\n",
      "AU: 8,060 positive predictions (1.15%)\n",
      "AG: 41,094 positive predictions (5.87%)\n",
      "CU: 9,976 positive predictions (1.43%)\n",
      "CO: 18,462 positive predictions (2.64%)\n",
      "NI: 31,736 positive predictions (4.53%)\n",
      "==================================================\n",
      "\n"
     ]
    },
    {
     "name": "stderr",
     "output_type": "stream",
     "text": [
      "Predicting:  64%|█████████████▎       | 11000/17302 [2:36:11<1:21:18,  1.29it/s]"
     ]
    },
    {
     "name": "stdout",
     "output_type": "stream",
     "text": [
      "\n",
      "Batch 11000/17302 (704,000 samples)\n",
      "Batch predictions:\n",
      "AU: 0 positives in this batch\n",
      "AG: 3 positives in this batch\n",
      "CU: 0 positives in this batch\n",
      "CO: 0 positives in this batch\n",
      "NI: 1 positives in this batch\n"
     ]
    },
    {
     "name": "stderr",
     "output_type": "stream",
     "text": [
      "Predicting:  64%|█████████████▍       | 11100/17302 [2:37:34<1:23:35,  1.24it/s]"
     ]
    },
    {
     "name": "stdout",
     "output_type": "stream",
     "text": [
      "\n",
      "Batch 11100/17302 (710,400 samples)\n",
      "Batch predictions:\n",
      "AU: 0 positives in this batch\n",
      "AG: 6 positives in this batch\n",
      "CU: 1 positives in this batch\n",
      "CO: 1 positives in this batch\n",
      "NI: 1 positives in this batch\n"
     ]
    },
    {
     "name": "stderr",
     "output_type": "stream",
     "text": [
      "Predicting:  65%|█████████████▌       | 11200/17302 [2:38:56<1:18:37,  1.29it/s]"
     ]
    },
    {
     "name": "stdout",
     "output_type": "stream",
     "text": [
      "\n",
      "Batch 11200/17302 (716,800 samples)\n",
      "Batch predictions:\n",
      "AU: 0 positives in this batch\n",
      "AG: 2 positives in this batch\n",
      "CU: 0 positives in this batch\n",
      "CO: 1 positives in this batch\n",
      "NI: 3 positives in this batch\n"
     ]
    },
    {
     "name": "stderr",
     "output_type": "stream",
     "text": [
      "Predicting:  65%|█████████████▋       | 11300/17302 [2:40:14<1:12:59,  1.37it/s]"
     ]
    },
    {
     "name": "stdout",
     "output_type": "stream",
     "text": [
      "\n",
      "Batch 11300/17302 (723,200 samples)\n",
      "Batch predictions:\n",
      "AU: 0 positives in this batch\n",
      "AG: 26 positives in this batch\n",
      "CU: 0 positives in this batch\n",
      "CO: 0 positives in this batch\n",
      "NI: 0 positives in this batch\n"
     ]
    },
    {
     "name": "stderr",
     "output_type": "stream",
     "text": [
      "Predicting:  66%|█████████████▊       | 11400/17302 [2:41:28<1:09:12,  1.42it/s]"
     ]
    },
    {
     "name": "stdout",
     "output_type": "stream",
     "text": [
      "\n",
      "Batch 11400/17302 (729,600 samples)\n",
      "Batch predictions:\n",
      "AU: 1 positives in this batch\n",
      "AG: 1 positives in this batch\n",
      "CU: 1 positives in this batch\n",
      "CO: 0 positives in this batch\n",
      "NI: 0 positives in this batch\n"
     ]
    },
    {
     "name": "stderr",
     "output_type": "stream",
     "text": [
      "Predicting:  66%|█████████████▉       | 11500/17302 [2:42:43<1:14:39,  1.30it/s]"
     ]
    },
    {
     "name": "stdout",
     "output_type": "stream",
     "text": [
      "\n",
      "Batch 11500/17302 (736,000 samples)\n",
      "Batch predictions:\n",
      "AU: 0 positives in this batch\n",
      "AG: 2 positives in this batch\n",
      "CU: 0 positives in this batch\n",
      "CO: 0 positives in this batch\n",
      "NI: 1 positives in this batch\n"
     ]
    },
    {
     "name": "stderr",
     "output_type": "stream",
     "text": [
      "Predicting:  67%|██████████████       | 11600/17302 [2:44:05<1:18:41,  1.21it/s]"
     ]
    },
    {
     "name": "stdout",
     "output_type": "stream",
     "text": [
      "\n",
      "Batch 11600/17302 (742,400 samples)\n",
      "Batch predictions:\n",
      "AU: 1 positives in this batch\n",
      "AG: 18 positives in this batch\n",
      "CU: 0 positives in this batch\n",
      "CO: 0 positives in this batch\n",
      "NI: 0 positives in this batch\n"
     ]
    },
    {
     "name": "stderr",
     "output_type": "stream",
     "text": [
      "Predicting:  68%|██████████████▏      | 11700/17302 [2:45:26<1:17:20,  1.21it/s]"
     ]
    },
    {
     "name": "stdout",
     "output_type": "stream",
     "text": [
      "\n",
      "Batch 11700/17302 (748,800 samples)\n",
      "Batch predictions:\n",
      "AU: 0 positives in this batch\n",
      "AG: 1 positives in this batch\n",
      "CU: 0 positives in this batch\n",
      "CO: 0 positives in this batch\n",
      "NI: 0 positives in this batch\n"
     ]
    },
    {
     "name": "stderr",
     "output_type": "stream",
     "text": [
      "Predicting:  68%|██████████████▎      | 11800/17302 [2:46:47<1:13:32,  1.25it/s]"
     ]
    },
    {
     "name": "stdout",
     "output_type": "stream",
     "text": [
      "\n",
      "Batch 11800/17302 (755,200 samples)\n",
      "Batch predictions:\n",
      "AU: 3 positives in this batch\n",
      "AG: 3 positives in this batch\n",
      "CU: 4 positives in this batch\n",
      "CO: 2 positives in this batch\n",
      "NI: 4 positives in this batch\n"
     ]
    },
    {
     "name": "stderr",
     "output_type": "stream",
     "text": [
      "Predicting:  69%|██████████████▍      | 11900/17302 [2:48:08<1:09:02,  1.30it/s]"
     ]
    },
    {
     "name": "stdout",
     "output_type": "stream",
     "text": [
      "\n",
      "Batch 11900/17302 (761,600 samples)\n",
      "Batch predictions:\n",
      "AU: 0 positives in this batch\n",
      "AG: 9 positives in this batch\n",
      "CU: 0 positives in this batch\n",
      "CO: 0 positives in this batch\n",
      "NI: 0 positives in this batch\n"
     ]
    },
    {
     "name": "stderr",
     "output_type": "stream",
     "text": [
      "Predicting:  69%|██████████████▌      | 12000/17302 [2:49:25<1:11:15,  1.24it/s]"
     ]
    },
    {
     "name": "stdout",
     "output_type": "stream",
     "text": [
      "\n",
      "Batch 12000/17302 (768,000 samples)\n",
      "Batch predictions:\n",
      "AU: 1 positives in this batch\n",
      "AG: 3 positives in this batch\n",
      "CU: 1 positives in this batch\n",
      "CO: 0 positives in this batch\n",
      "NI: 0 positives in this batch\n"
     ]
    },
    {
     "name": "stderr",
     "output_type": "stream",
     "text": [
      "Predicting:  70%|██████████████▋      | 12100/17302 [2:50:44<1:09:49,  1.24it/s]"
     ]
    },
    {
     "name": "stdout",
     "output_type": "stream",
     "text": [
      "\n",
      "Batch 12100/17302 (774,400 samples)\n",
      "Batch predictions:\n",
      "AU: 1 positives in this batch\n",
      "AG: 3 positives in this batch\n",
      "CU: 2 positives in this batch\n",
      "CO: 4 positives in this batch\n",
      "NI: 5 positives in this batch\n"
     ]
    },
    {
     "name": "stderr",
     "output_type": "stream",
     "text": [
      "Predicting:  71%|██████████████▊      | 12200/17302 [2:52:04<1:07:43,  1.26it/s]"
     ]
    },
    {
     "name": "stdout",
     "output_type": "stream",
     "text": [
      "\n",
      "Batch 12200/17302 (780,800 samples)\n",
      "Batch predictions:\n",
      "AU: 0 positives in this batch\n",
      "AG: 4 positives in this batch\n",
      "CU: 2 positives in this batch\n",
      "CO: 2 positives in this batch\n",
      "NI: 4 positives in this batch\n"
     ]
    },
    {
     "name": "stderr",
     "output_type": "stream",
     "text": [
      "Predicting:  71%|██████████████▉      | 12300/17302 [2:53:25<1:11:20,  1.17it/s]"
     ]
    },
    {
     "name": "stdout",
     "output_type": "stream",
     "text": [
      "\n",
      "Batch 12300/17302 (787,200 samples)\n",
      "Batch predictions:\n",
      "AU: 0 positives in this batch\n",
      "AG: 3 positives in this batch\n",
      "CU: 2 positives in this batch\n",
      "CO: 3 positives in this batch\n",
      "NI: 2 positives in this batch\n"
     ]
    },
    {
     "name": "stderr",
     "output_type": "stream",
     "text": [
      "Predicting:  72%|███████████████      | 12400/17302 [2:54:48<1:10:27,  1.16it/s]"
     ]
    },
    {
     "name": "stdout",
     "output_type": "stream",
     "text": [
      "\n",
      "Batch 12400/17302 (793,600 samples)\n",
      "Batch predictions:\n",
      "AU: 0 positives in this batch\n",
      "AG: 2 positives in this batch\n",
      "CU: 1 positives in this batch\n",
      "CO: 1 positives in this batch\n",
      "NI: 3 positives in this batch\n"
     ]
    },
    {
     "name": "stderr",
     "output_type": "stream",
     "text": [
      "Predicting:  72%|███████████████▏     | 12499/17302 [2:56:10<1:06:33,  1.20it/s]"
     ]
    },
    {
     "name": "stdout",
     "output_type": "stream",
     "text": [
      "\n",
      "Batch 12500/17302 (800,000 samples)\n",
      "Batch predictions:\n",
      "AU: 3 positives in this batch\n",
      "AG: 2 positives in this batch\n",
      "CU: 1 positives in this batch\n",
      "CO: 1 positives in this batch\n",
      "NI: 0 positives in this batch\n"
     ]
    },
    {
     "name": "stderr",
     "output_type": "stream",
     "text": [
      "Predicting:  72%|███████████████▏     | 12500/17302 [2:56:20<5:08:43,  3.86s/it]"
     ]
    },
    {
     "name": "stdout",
     "output_type": "stream",
     "text": [
      "\n",
      "==================================================\n",
      "SAVED CHUNK: /Users/ramiab/Desktop/Mineral-Predictions-Local/Training/data/output/CNN_output_batch_800000.csv\n",
      "Processed 800,000/1,107,289 points (72.2%)\n",
      "\n",
      "Cumulative prediction statistics:\n",
      "AU: 9,285 positive predictions (1.16%)\n",
      "AG: 49,091 positive predictions (6.14%)\n",
      "CU: 11,652 positive predictions (1.46%)\n",
      "CO: 21,135 positive predictions (2.64%)\n",
      "NI: 35,974 positive predictions (4.50%)\n",
      "==================================================\n",
      "\n"
     ]
    },
    {
     "name": "stderr",
     "output_type": "stream",
     "text": [
      "Predicting:  73%|███████████████▎     | 12600/17302 [2:57:42<1:04:47,  1.21it/s]"
     ]
    },
    {
     "name": "stdout",
     "output_type": "stream",
     "text": [
      "\n",
      "Batch 12600/17302 (806,400 samples)\n",
      "Batch predictions:\n",
      "AU: 2 positives in this batch\n",
      "AG: 2 positives in this batch\n",
      "CU: 1 positives in this batch\n",
      "CO: 0 positives in this batch\n",
      "NI: 3 positives in this batch\n"
     ]
    },
    {
     "name": "stderr",
     "output_type": "stream",
     "text": [
      "Predicting:  73%|███████████████▍     | 12700/17302 [2:59:00<1:02:10,  1.23it/s]"
     ]
    },
    {
     "name": "stdout",
     "output_type": "stream",
     "text": [
      "\n",
      "Batch 12700/17302 (812,800 samples)\n",
      "Batch predictions:\n",
      "AU: 4 positives in this batch\n",
      "AG: 2 positives in this batch\n",
      "CU: 1 positives in this batch\n",
      "CO: 1 positives in this batch\n",
      "NI: 2 positives in this batch\n"
     ]
    },
    {
     "name": "stderr",
     "output_type": "stream",
     "text": [
      "Predicting:  74%|█████████████████      | 12800/17302 [3:00:19<57:41,  1.30it/s]"
     ]
    },
    {
     "name": "stdout",
     "output_type": "stream",
     "text": [
      "\n",
      "Batch 12800/17302 (819,200 samples)\n",
      "Batch predictions:\n",
      "AU: 1 positives in this batch\n",
      "AG: 0 positives in this batch\n",
      "CU: 0 positives in this batch\n",
      "CO: 0 positives in this batch\n",
      "NI: 4 positives in this batch\n"
     ]
    },
    {
     "name": "stderr",
     "output_type": "stream",
     "text": [
      "Predicting:  75%|█████████████████▏     | 12900/17302 [3:01:38<52:43,  1.39it/s]"
     ]
    },
    {
     "name": "stdout",
     "output_type": "stream",
     "text": [
      "\n",
      "Batch 12900/17302 (825,600 samples)\n",
      "Batch predictions:\n",
      "AU: 0 positives in this batch\n",
      "AG: 14 positives in this batch\n",
      "CU: 0 positives in this batch\n",
      "CO: 0 positives in this batch\n",
      "NI: 0 positives in this batch\n"
     ]
    },
    {
     "name": "stderr",
     "output_type": "stream",
     "text": [
      "Predicting:  75%|█████████████████▎     | 13000/17302 [3:02:49<51:28,  1.39it/s]"
     ]
    },
    {
     "name": "stdout",
     "output_type": "stream",
     "text": [
      "\n",
      "Batch 13000/17302 (832,000 samples)\n",
      "Batch predictions:\n",
      "AU: 1 positives in this batch\n",
      "AG: 1 positives in this batch\n",
      "CU: 0 positives in this batch\n",
      "CO: 0 positives in this batch\n",
      "NI: 1 positives in this batch\n"
     ]
    },
    {
     "name": "stderr",
     "output_type": "stream",
     "text": [
      "Predicting:  76%|█████████████████▍     | 13100/17302 [3:03:51<35:18,  1.98it/s]"
     ]
    },
    {
     "name": "stdout",
     "output_type": "stream",
     "text": [
      "\n",
      "Batch 13100/17302 (838,400 samples)\n",
      "Batch predictions:\n",
      "AU: 3 positives in this batch\n",
      "AG: 5 positives in this batch\n",
      "CU: 1 positives in this batch\n",
      "CO: 1 positives in this batch\n",
      "NI: 2 positives in this batch\n"
     ]
    },
    {
     "name": "stderr",
     "output_type": "stream",
     "text": [
      "Predicting:  76%|█████████████████▌     | 13200/17302 [3:04:41<33:48,  2.02it/s]"
     ]
    },
    {
     "name": "stdout",
     "output_type": "stream",
     "text": [
      "\n",
      "Batch 13200/17302 (844,800 samples)\n",
      "Batch predictions:\n",
      "AU: 0 positives in this batch\n",
      "AG: 3 positives in this batch\n",
      "CU: 0 positives in this batch\n",
      "CO: 2 positives in this batch\n",
      "NI: 1 positives in this batch\n"
     ]
    },
    {
     "name": "stderr",
     "output_type": "stream",
     "text": [
      "Predicting:  77%|█████████████████▋     | 13300/17302 [3:05:33<34:11,  1.95it/s]"
     ]
    },
    {
     "name": "stdout",
     "output_type": "stream",
     "text": [
      "\n",
      "Batch 13300/17302 (851,200 samples)\n",
      "Batch predictions:\n",
      "AU: 0 positives in this batch\n",
      "AG: 0 positives in this batch\n",
      "CU: 0 positives in this batch\n",
      "CO: 0 positives in this batch\n",
      "NI: 6 positives in this batch\n"
     ]
    },
    {
     "name": "stderr",
     "output_type": "stream",
     "text": [
      "Predicting:  77%|█████████████████▊     | 13400/17302 [3:06:26<34:55,  1.86it/s]"
     ]
    },
    {
     "name": "stdout",
     "output_type": "stream",
     "text": [
      "\n",
      "Batch 13400/17302 (857,600 samples)\n",
      "Batch predictions:\n",
      "AU: 0 positives in this batch\n",
      "AG: 0 positives in this batch\n",
      "CU: 0 positives in this batch\n",
      "CO: 1 positives in this batch\n",
      "NI: 1 positives in this batch\n"
     ]
    },
    {
     "name": "stderr",
     "output_type": "stream",
     "text": [
      "Predicting:  78%|█████████████████▉     | 13500/17302 [3:07:19<30:16,  2.09it/s]"
     ]
    },
    {
     "name": "stdout",
     "output_type": "stream",
     "text": [
      "\n",
      "Batch 13500/17302 (864,000 samples)\n",
      "Batch predictions:\n",
      "AU: 1 positives in this batch\n",
      "AG: 6 positives in this batch\n",
      "CU: 0 positives in this batch\n",
      "CO: 0 positives in this batch\n",
      "NI: 0 positives in this batch\n"
     ]
    },
    {
     "name": "stderr",
     "output_type": "stream",
     "text": [
      "Predicting:  79%|██████████████████     | 13600/17302 [3:08:08<28:49,  2.14it/s]"
     ]
    },
    {
     "name": "stdout",
     "output_type": "stream",
     "text": [
      "\n",
      "Batch 13600/17302 (870,400 samples)\n",
      "Batch predictions:\n",
      "AU: 0 positives in this batch\n",
      "AG: 1 positives in this batch\n",
      "CU: 0 positives in this batch\n",
      "CO: 0 positives in this batch\n",
      "NI: 0 positives in this batch\n"
     ]
    },
    {
     "name": "stderr",
     "output_type": "stream",
     "text": [
      "Predicting:  79%|██████████████████▏    | 13700/17302 [3:08:56<31:02,  1.93it/s]"
     ]
    },
    {
     "name": "stdout",
     "output_type": "stream",
     "text": [
      "\n",
      "Batch 13700/17302 (876,800 samples)\n",
      "Batch predictions:\n",
      "AU: 1 positives in this batch\n",
      "AG: 10 positives in this batch\n",
      "CU: 0 positives in this batch\n",
      "CO: 0 positives in this batch\n",
      "NI: 2 positives in this batch\n"
     ]
    },
    {
     "name": "stderr",
     "output_type": "stream",
     "text": [
      "Predicting:  80%|██████████████████▎    | 13800/17302 [3:09:47<30:31,  1.91it/s]"
     ]
    },
    {
     "name": "stdout",
     "output_type": "stream",
     "text": [
      "\n",
      "Batch 13800/17302 (883,200 samples)\n",
      "Batch predictions:\n",
      "AU: 2 positives in this batch\n",
      "AG: 4 positives in this batch\n",
      "CU: 2 positives in this batch\n",
      "CO: 2 positives in this batch\n",
      "NI: 7 positives in this batch\n"
     ]
    },
    {
     "name": "stderr",
     "output_type": "stream",
     "text": [
      "Predicting:  80%|██████████████████▍    | 13900/17302 [3:10:40<29:13,  1.94it/s]"
     ]
    },
    {
     "name": "stdout",
     "output_type": "stream",
     "text": [
      "\n",
      "Batch 13900/17302 (889,600 samples)\n",
      "Batch predictions:\n",
      "AU: 0 positives in this batch\n",
      "AG: 6 positives in this batch\n",
      "CU: 4 positives in this batch\n",
      "CO: 6 positives in this batch\n",
      "NI: 5 positives in this batch\n"
     ]
    },
    {
     "name": "stderr",
     "output_type": "stream",
     "text": [
      "Predicting:  81%|██████████████████▌    | 14000/17302 [3:11:33<28:27,  1.93it/s]"
     ]
    },
    {
     "name": "stdout",
     "output_type": "stream",
     "text": [
      "\n",
      "Batch 14000/17302 (896,000 samples)\n",
      "Batch predictions:\n",
      "AU: 1 positives in this batch\n",
      "AG: 1 positives in this batch\n",
      "CU: 1 positives in this batch\n",
      "CO: 2 positives in this batch\n",
      "NI: 2 positives in this batch\n"
     ]
    },
    {
     "name": "stderr",
     "output_type": "stream",
     "text": [
      "Predicting:  81%|█████████████████    | 14063/17302 [3:12:14<2:29:12,  2.76s/it]"
     ]
    },
    {
     "name": "stdout",
     "output_type": "stream",
     "text": [
      "\n",
      "==================================================\n",
      "SAVED CHUNK: /Users/ramiab/Desktop/Mineral-Predictions-Local/Training/data/output/CNN_output_batch_900032.csv\n",
      "Processed 900,032/1,107,289 points (81.3%)\n",
      "\n",
      "Cumulative prediction statistics:\n",
      "AU: 10,380 positive predictions (1.15%)\n",
      "AG: 54,956 positive predictions (6.11%)\n",
      "CU: 12,918 positive predictions (1.44%)\n",
      "CO: 23,312 positive predictions (2.59%)\n",
      "NI: 40,617 positive predictions (4.51%)\n",
      "==================================================\n",
      "\n"
     ]
    },
    {
     "name": "stderr",
     "output_type": "stream",
     "text": [
      "Predicting:  81%|██████████████████▋    | 14100/17302 [3:12:33<30:06,  1.77it/s]"
     ]
    },
    {
     "name": "stdout",
     "output_type": "stream",
     "text": [
      "\n",
      "Batch 14100/17302 (902,400 samples)\n",
      "Batch predictions:\n",
      "AU: 0 positives in this batch\n",
      "AG: 2 positives in this batch\n",
      "CU: 2 positives in this batch\n",
      "CO: 4 positives in this batch\n",
      "NI: 5 positives in this batch\n"
     ]
    },
    {
     "name": "stderr",
     "output_type": "stream",
     "text": [
      "Predicting:  82%|██████████████████▉    | 14200/17302 [3:13:25<27:13,  1.90it/s]"
     ]
    },
    {
     "name": "stdout",
     "output_type": "stream",
     "text": [
      "\n",
      "Batch 14200/17302 (908,800 samples)\n",
      "Batch predictions:\n",
      "AU: 0 positives in this batch\n",
      "AG: 2 positives in this batch\n",
      "CU: 3 positives in this batch\n",
      "CO: 5 positives in this batch\n",
      "NI: 10 positives in this batch\n"
     ]
    },
    {
     "name": "stderr",
     "output_type": "stream",
     "text": [
      "Predicting:  83%|███████████████████    | 14300/17302 [3:14:18<26:00,  1.92it/s]"
     ]
    },
    {
     "name": "stdout",
     "output_type": "stream",
     "text": [
      "\n",
      "Batch 14300/17302 (915,200 samples)\n",
      "Batch predictions:\n",
      "AU: 0 positives in this batch\n",
      "AG: 8 positives in this batch\n",
      "CU: 0 positives in this batch\n",
      "CO: 5 positives in this batch\n",
      "NI: 11 positives in this batch\n"
     ]
    },
    {
     "name": "stderr",
     "output_type": "stream",
     "text": [
      "Predicting:  83%|███████████████████▏   | 14400/17302 [3:15:12<26:13,  1.84it/s]"
     ]
    },
    {
     "name": "stdout",
     "output_type": "stream",
     "text": [
      "\n",
      "Batch 14400/17302 (921,600 samples)\n",
      "Batch predictions:\n",
      "AU: 1 positives in this batch\n",
      "AG: 7 positives in this batch\n",
      "CU: 4 positives in this batch\n",
      "CO: 3 positives in this batch\n",
      "NI: 5 positives in this batch\n"
     ]
    },
    {
     "name": "stderr",
     "output_type": "stream",
     "text": [
      "Predicting:  84%|███████████████████▎   | 14500/17302 [3:16:06<24:49,  1.88it/s]"
     ]
    },
    {
     "name": "stdout",
     "output_type": "stream",
     "text": [
      "\n",
      "Batch 14500/17302 (928,000 samples)\n",
      "Batch predictions:\n",
      "AU: 0 positives in this batch\n",
      "AG: 3 positives in this batch\n",
      "CU: 2 positives in this batch\n",
      "CO: 6 positives in this batch\n",
      "NI: 11 positives in this batch\n"
     ]
    },
    {
     "name": "stderr",
     "output_type": "stream",
     "text": [
      "Predicting:  84%|███████████████████▍   | 14600/17302 [3:16:59<22:00,  2.05it/s]"
     ]
    },
    {
     "name": "stdout",
     "output_type": "stream",
     "text": [
      "\n",
      "Batch 14600/17302 (934,400 samples)\n",
      "Batch predictions:\n",
      "AU: 1 positives in this batch\n",
      "AG: 1 positives in this batch\n",
      "CU: 1 positives in this batch\n",
      "CO: 1 positives in this batch\n",
      "NI: 4 positives in this batch\n"
     ]
    },
    {
     "name": "stderr",
     "output_type": "stream",
     "text": [
      "Predicting:  85%|███████████████████▌   | 14700/17302 [3:17:47<20:47,  2.09it/s]"
     ]
    },
    {
     "name": "stdout",
     "output_type": "stream",
     "text": [
      "\n",
      "Batch 14700/17302 (940,800 samples)\n",
      "Batch predictions:\n",
      "AU: 0 positives in this batch\n",
      "AG: 6 positives in this batch\n",
      "CU: 4 positives in this batch\n",
      "CO: 5 positives in this batch\n",
      "NI: 4 positives in this batch\n"
     ]
    },
    {
     "name": "stderr",
     "output_type": "stream",
     "text": [
      "Predicting:  86%|███████████████████▋   | 14800/17302 [3:18:35<19:40,  2.12it/s]"
     ]
    },
    {
     "name": "stdout",
     "output_type": "stream",
     "text": [
      "\n",
      "Batch 14800/17302 (947,200 samples)\n",
      "Batch predictions:\n",
      "AU: 1 positives in this batch\n",
      "AG: 1 positives in this batch\n",
      "CU: 1 positives in this batch\n",
      "CO: 2 positives in this batch\n",
      "NI: 4 positives in this batch\n"
     ]
    },
    {
     "name": "stderr",
     "output_type": "stream",
     "text": [
      "Predicting:  86%|███████████████████▊   | 14900/17302 [3:19:27<20:43,  1.93it/s]"
     ]
    },
    {
     "name": "stdout",
     "output_type": "stream",
     "text": [
      "\n",
      "Batch 14900/17302 (953,600 samples)\n",
      "Batch predictions:\n",
      "AU: 0 positives in this batch\n",
      "AG: 2 positives in this batch\n",
      "CU: 2 positives in this batch\n",
      "CO: 1 positives in this batch\n",
      "NI: 3 positives in this batch\n"
     ]
    },
    {
     "name": "stderr",
     "output_type": "stream",
     "text": [
      "Predicting:  87%|███████████████████▉   | 15000/17302 [3:20:19<19:55,  1.93it/s]"
     ]
    },
    {
     "name": "stdout",
     "output_type": "stream",
     "text": [
      "\n",
      "Batch 15000/17302 (960,000 samples)\n",
      "Batch predictions:\n",
      "AU: 0 positives in this batch\n",
      "AG: 1 positives in this batch\n",
      "CU: 0 positives in this batch\n",
      "CO: 1 positives in this batch\n",
      "NI: 2 positives in this batch\n"
     ]
    },
    {
     "name": "stderr",
     "output_type": "stream",
     "text": [
      "Predicting:  87%|████████████████████   | 15100/17302 [3:21:11<18:57,  1.94it/s]"
     ]
    },
    {
     "name": "stdout",
     "output_type": "stream",
     "text": [
      "\n",
      "Batch 15100/17302 (966,400 samples)\n",
      "Batch predictions:\n",
      "AU: 0 positives in this batch\n",
      "AG: 1 positives in this batch\n",
      "CU: 0 positives in this batch\n",
      "CO: 0 positives in this batch\n",
      "NI: 0 positives in this batch\n"
     ]
    },
    {
     "name": "stderr",
     "output_type": "stream",
     "text": [
      "Predicting:  88%|████████████████████▏  | 15200/17302 [3:22:04<17:58,  1.95it/s]"
     ]
    },
    {
     "name": "stdout",
     "output_type": "stream",
     "text": [
      "\n",
      "Batch 15200/17302 (972,800 samples)\n",
      "Batch predictions:\n",
      "AU: 0 positives in this batch\n",
      "AG: 2 positives in this batch\n",
      "CU: 1 positives in this batch\n",
      "CO: 2 positives in this batch\n",
      "NI: 4 positives in this batch\n"
     ]
    },
    {
     "name": "stderr",
     "output_type": "stream",
     "text": [
      "Predicting:  88%|████████████████████▎  | 15300/17302 [3:22:56<17:13,  1.94it/s]"
     ]
    },
    {
     "name": "stdout",
     "output_type": "stream",
     "text": [
      "\n",
      "Batch 15300/17302 (979,200 samples)\n",
      "Batch predictions:\n",
      "AU: 1 positives in this batch\n",
      "AG: 4 positives in this batch\n",
      "CU: 0 positives in this batch\n",
      "CO: 0 positives in this batch\n",
      "NI: 0 positives in this batch\n"
     ]
    },
    {
     "name": "stderr",
     "output_type": "stream",
     "text": [
      "Predicting:  89%|████████████████████▍  | 15400/17302 [3:23:48<16:15,  1.95it/s]"
     ]
    },
    {
     "name": "stdout",
     "output_type": "stream",
     "text": [
      "\n",
      "Batch 15400/17302 (985,600 samples)\n",
      "Batch predictions:\n",
      "AU: 0 positives in this batch\n",
      "AG: 3 positives in this batch\n",
      "CU: 1 positives in this batch\n",
      "CO: 1 positives in this batch\n",
      "NI: 1 positives in this batch\n"
     ]
    },
    {
     "name": "stderr",
     "output_type": "stream",
     "text": [
      "Predicting:  90%|████████████████████▌  | 15500/17302 [3:24:41<15:53,  1.89it/s]"
     ]
    },
    {
     "name": "stdout",
     "output_type": "stream",
     "text": [
      "\n",
      "Batch 15500/17302 (992,000 samples)\n",
      "Batch predictions:\n",
      "AU: 0 positives in this batch\n",
      "AG: 9 positives in this batch\n",
      "CU: 1 positives in this batch\n",
      "CO: 2 positives in this batch\n",
      "NI: 0 positives in this batch\n"
     ]
    },
    {
     "name": "stderr",
     "output_type": "stream",
     "text": [
      "Predicting:  90%|████████████████████▋  | 15600/17302 [3:25:35<15:22,  1.85it/s]"
     ]
    },
    {
     "name": "stdout",
     "output_type": "stream",
     "text": [
      "\n",
      "Batch 15600/17302 (998,400 samples)\n",
      "Batch predictions:\n",
      "AU: 0 positives in this batch\n",
      "AG: 7 positives in this batch\n",
      "CU: 0 positives in this batch\n",
      "CO: 0 positives in this batch\n",
      "NI: 0 positives in this batch\n"
     ]
    },
    {
     "name": "stderr",
     "output_type": "stream",
     "text": [
      "Predicting:  90%|██████████████████▉  | 15625/17302 [3:25:57<1:27:01,  3.11s/it]"
     ]
    },
    {
     "name": "stdout",
     "output_type": "stream",
     "text": [
      "\n",
      "==================================================\n",
      "SAVED CHUNK: /Users/ramiab/Desktop/Mineral-Predictions-Local/Training/data/output/CNN_output_batch_1000000.csv\n",
      "Processed 1,000,000/1,107,289 points (90.3%)\n",
      "\n",
      "Cumulative prediction statistics:\n",
      "AU: 11,308 positive predictions (1.13%)\n",
      "AG: 63,268 positive predictions (6.33%)\n",
      "CU: 15,768 positive predictions (1.58%)\n",
      "CO: 28,370 positive predictions (2.84%)\n",
      "NI: 47,701 positive predictions (4.77%)\n",
      "==================================================\n",
      "\n"
     ]
    },
    {
     "name": "stderr",
     "output_type": "stream",
     "text": [
      "Predicting:  91%|████████████████████▊  | 15700/17302 [3:26:36<14:13,  1.88it/s]"
     ]
    },
    {
     "name": "stdout",
     "output_type": "stream",
     "text": [
      "\n",
      "Batch 15700/17302 (1,004,800 samples)\n",
      "Batch predictions:\n",
      "AU: 0 positives in this batch\n",
      "AG: 3 positives in this batch\n",
      "CU: 1 positives in this batch\n",
      "CO: 1 positives in this batch\n",
      "NI: 4 positives in this batch\n"
     ]
    },
    {
     "name": "stderr",
     "output_type": "stream",
     "text": [
      "Predicting:  91%|█████████████████████  | 15800/17302 [3:27:26<11:54,  2.10it/s]"
     ]
    },
    {
     "name": "stdout",
     "output_type": "stream",
     "text": [
      "\n",
      "Batch 15800/17302 (1,011,200 samples)\n",
      "Batch predictions:\n",
      "AU: 1 positives in this batch\n",
      "AG: 3 positives in this batch\n",
      "CU: 3 positives in this batch\n",
      "CO: 6 positives in this batch\n",
      "NI: 10 positives in this batch\n"
     ]
    },
    {
     "name": "stderr",
     "output_type": "stream",
     "text": [
      "Predicting:  92%|█████████████████████▏ | 15900/17302 [3:28:14<11:05,  2.11it/s]"
     ]
    },
    {
     "name": "stdout",
     "output_type": "stream",
     "text": [
      "\n",
      "Batch 15900/17302 (1,017,600 samples)\n",
      "Batch predictions:\n",
      "AU: 2 positives in this batch\n",
      "AG: 8 positives in this batch\n",
      "CU: 0 positives in this batch\n",
      "CO: 0 positives in this batch\n",
      "NI: 3 positives in this batch\n"
     ]
    },
    {
     "name": "stderr",
     "output_type": "stream",
     "text": [
      "Predicting:  92%|█████████████████████▎ | 16000/17302 [3:29:04<11:13,  1.93it/s]"
     ]
    },
    {
     "name": "stdout",
     "output_type": "stream",
     "text": [
      "\n",
      "Batch 16000/17302 (1,024,000 samples)\n",
      "Batch predictions:\n",
      "AU: 2 positives in this batch\n",
      "AG: 11 positives in this batch\n",
      "CU: 2 positives in this batch\n",
      "CO: 2 positives in this batch\n",
      "NI: 3 positives in this batch\n"
     ]
    },
    {
     "name": "stderr",
     "output_type": "stream",
     "text": [
      "Predicting:  93%|█████████████████████▍ | 16100/17302 [3:29:56<10:34,  1.90it/s]"
     ]
    },
    {
     "name": "stdout",
     "output_type": "stream",
     "text": [
      "\n",
      "Batch 16100/17302 (1,030,400 samples)\n",
      "Batch predictions:\n",
      "AU: 1 positives in this batch\n",
      "AG: 2 positives in this batch\n",
      "CU: 2 positives in this batch\n",
      "CO: 3 positives in this batch\n",
      "NI: 2 positives in this batch\n"
     ]
    },
    {
     "name": "stderr",
     "output_type": "stream",
     "text": [
      "Predicting:  94%|█████████████████████▌ | 16200/17302 [3:30:48<09:29,  1.94it/s]"
     ]
    },
    {
     "name": "stdout",
     "output_type": "stream",
     "text": [
      "\n",
      "Batch 16200/17302 (1,036,800 samples)\n",
      "Batch predictions:\n",
      "AU: 2 positives in this batch\n",
      "AG: 3 positives in this batch\n",
      "CU: 1 positives in this batch\n",
      "CO: 1 positives in this batch\n",
      "NI: 2 positives in this batch\n"
     ]
    },
    {
     "name": "stderr",
     "output_type": "stream",
     "text": [
      "Predicting:  94%|█████████████████████▋ | 16300/17302 [3:31:41<09:11,  1.82it/s]"
     ]
    },
    {
     "name": "stdout",
     "output_type": "stream",
     "text": [
      "\n",
      "Batch 16300/17302 (1,043,200 samples)\n",
      "Batch predictions:\n",
      "AU: 0 positives in this batch\n",
      "AG: 3 positives in this batch\n",
      "CU: 0 positives in this batch\n",
      "CO: 0 positives in this batch\n",
      "NI: 1 positives in this batch\n"
     ]
    },
    {
     "name": "stderr",
     "output_type": "stream",
     "text": [
      "Predicting:  95%|█████████████████████▊ | 16400/17302 [3:32:32<07:37,  1.97it/s]"
     ]
    },
    {
     "name": "stdout",
     "output_type": "stream",
     "text": [
      "\n",
      "Batch 16400/17302 (1,049,600 samples)\n",
      "Batch predictions:\n",
      "AU: 0 positives in this batch\n",
      "AG: 11 positives in this batch\n",
      "CU: 4 positives in this batch\n",
      "CO: 3 positives in this batch\n",
      "NI: 3 positives in this batch\n"
     ]
    },
    {
     "name": "stderr",
     "output_type": "stream",
     "text": [
      "Predicting:  95%|█████████████████████▉ | 16500/17302 [3:33:25<06:57,  1.92it/s]"
     ]
    },
    {
     "name": "stdout",
     "output_type": "stream",
     "text": [
      "\n",
      "Batch 16500/17302 (1,056,000 samples)\n",
      "Batch predictions:\n",
      "AU: 5 positives in this batch\n",
      "AG: 8 positives in this batch\n",
      "CU: 5 positives in this batch\n",
      "CO: 6 positives in this batch\n",
      "NI: 8 positives in this batch\n"
     ]
    },
    {
     "name": "stderr",
     "output_type": "stream",
     "text": [
      "Predicting:  96%|██████████████████████ | 16600/17302 [3:34:17<06:05,  1.92it/s]"
     ]
    },
    {
     "name": "stdout",
     "output_type": "stream",
     "text": [
      "\n",
      "Batch 16600/17302 (1,062,400 samples)\n",
      "Batch predictions:\n",
      "AU: 0 positives in this batch\n",
      "AG: 1 positives in this batch\n",
      "CU: 1 positives in this batch\n",
      "CO: 0 positives in this batch\n",
      "NI: 0 positives in this batch\n"
     ]
    },
    {
     "name": "stderr",
     "output_type": "stream",
     "text": [
      "Predicting:  97%|██████████████████████▏| 16700/17302 [3:35:10<05:22,  1.87it/s]"
     ]
    },
    {
     "name": "stdout",
     "output_type": "stream",
     "text": [
      "\n",
      "Batch 16700/17302 (1,068,800 samples)\n",
      "Batch predictions:\n",
      "AU: 1 positives in this batch\n",
      "AG: 6 positives in this batch\n",
      "CU: 2 positives in this batch\n",
      "CO: 0 positives in this batch\n",
      "NI: 1 positives in this batch\n"
     ]
    },
    {
     "name": "stderr",
     "output_type": "stream",
     "text": [
      "Predicting:  97%|██████████████████████▎| 16800/17302 [3:36:05<04:54,  1.70it/s]"
     ]
    },
    {
     "name": "stdout",
     "output_type": "stream",
     "text": [
      "\n",
      "Batch 16800/17302 (1,075,200 samples)\n",
      "Batch predictions:\n",
      "AU: 0 positives in this batch\n",
      "AG: 1 positives in this batch\n",
      "CU: 0 positives in this batch\n",
      "CO: 0 positives in this batch\n",
      "NI: 0 positives in this batch\n"
     ]
    },
    {
     "name": "stderr",
     "output_type": "stream",
     "text": [
      "Predicting:  98%|██████████████████████▍| 16900/17302 [3:36:59<03:31,  1.90it/s]"
     ]
    },
    {
     "name": "stdout",
     "output_type": "stream",
     "text": [
      "\n",
      "Batch 16900/17302 (1,081,600 samples)\n",
      "Batch predictions:\n",
      "AU: 0 positives in this batch\n",
      "AG: 1 positives in this batch\n",
      "CU: 1 positives in this batch\n",
      "CO: 2 positives in this batch\n",
      "NI: 8 positives in this batch\n"
     ]
    },
    {
     "name": "stderr",
     "output_type": "stream",
     "text": [
      "Predicting:  98%|██████████████████████▌| 17000/17302 [3:37:49<02:31,  1.99it/s]"
     ]
    },
    {
     "name": "stdout",
     "output_type": "stream",
     "text": [
      "\n",
      "Batch 17000/17302 (1,088,000 samples)\n",
      "Batch predictions:\n",
      "AU: 0 positives in this batch\n",
      "AG: 3 positives in this batch\n",
      "CU: 0 positives in this batch\n",
      "CO: 0 positives in this batch\n",
      "NI: 2 positives in this batch\n"
     ]
    },
    {
     "name": "stderr",
     "output_type": "stream",
     "text": [
      "Predicting:  99%|██████████████████████▋| 17100/17302 [3:38:37<01:36,  2.10it/s]"
     ]
    },
    {
     "name": "stdout",
     "output_type": "stream",
     "text": [
      "\n",
      "Batch 17100/17302 (1,094,400 samples)\n",
      "Batch predictions:\n",
      "AU: 0 positives in this batch\n",
      "AG: 6 positives in this batch\n",
      "CU: 4 positives in this batch\n",
      "CO: 7 positives in this batch\n",
      "NI: 9 positives in this batch\n"
     ]
    },
    {
     "name": "stderr",
     "output_type": "stream",
     "text": [
      "Predicting:  99%|██████████████████████▊| 17188/17302 [3:39:31<06:13,  3.27s/it]"
     ]
    },
    {
     "name": "stdout",
     "output_type": "stream",
     "text": [
      "\n",
      "==================================================\n",
      "SAVED CHUNK: /Users/ramiab/Desktop/Mineral-Predictions-Local/Training/data/output/CNN_output_batch_1100032.csv\n",
      "Processed 1,100,032/1,107,289 points (99.3%)\n",
      "\n",
      "Cumulative prediction statistics:\n",
      "AU: 12,170 positive predictions (1.11%)\n",
      "AG: 69,603 positive predictions (6.33%)\n",
      "CU: 17,400 positive predictions (1.58%)\n",
      "CO: 31,111 positive predictions (2.83%)\n",
      "NI: 51,699 positive predictions (4.70%)\n",
      "==================================================\n",
      "\n"
     ]
    },
    {
     "name": "stderr",
     "output_type": "stream",
     "text": [
      "Predicting:  99%|██████████████████████▊| 17200/17302 [3:39:37<00:53,  1.92it/s]"
     ]
    },
    {
     "name": "stdout",
     "output_type": "stream",
     "text": [
      "\n",
      "Batch 17200/17302 (1,100,800 samples)\n",
      "Batch predictions:\n",
      "AU: 0 positives in this batch\n",
      "AG: 7 positives in this batch\n",
      "CU: 0 positives in this batch\n",
      "CO: 0 positives in this batch\n",
      "NI: 4 positives in this batch\n"
     ]
    },
    {
     "name": "stderr",
     "output_type": "stream",
     "text": [
      "Predicting: 100%|██████████████████████▉| 17300/17302 [3:40:30<00:01,  1.88it/s]"
     ]
    },
    {
     "name": "stdout",
     "output_type": "stream",
     "text": [
      "\n",
      "Batch 17300/17302 (1,107,200 samples)\n",
      "Batch predictions:\n",
      "AU: 0 positives in this batch\n",
      "AG: 4 positives in this batch\n",
      "CU: 0 positives in this batch\n",
      "CO: 0 positives in this batch\n",
      "NI: 0 positives in this batch\n"
     ]
    },
    {
     "name": "stderr",
     "output_type": "stream",
     "text": [
      "Predicting: 100%|███████████████████████| 17302/17302 [3:40:39<00:00,  1.31it/s]"
     ]
    },
    {
     "name": "stdout",
     "output_type": "stream",
     "text": [
      "\n",
      "==================================================\n",
      "SAVED CHUNK: /Users/ramiab/Desktop/Mineral-Predictions-Local/Training/data/output/CNN_output_batch_1107289.csv\n",
      "Processed 1,107,289/1,107,289 points (100.0%)\n",
      "\n",
      "Cumulative prediction statistics:\n",
      "AU: 12,202 positive predictions (1.10%)\n",
      "AG: 70,201 positive predictions (6.34%)\n",
      "CU: 17,552 positive predictions (1.59%)\n",
      "CO: 31,365 positive predictions (2.83%)\n",
      "NI: 52,032 positive predictions (4.70%)\n",
      "==================================================\n",
      "\n",
      "\n",
      "Prediction complete!\n",
      "Final statistics:\n",
      "AU: 12,202 total positive predictions (1.10%)\n",
      "AG: 70,201 total positive predictions (6.34%)\n",
      "CU: 17,552 total positive predictions (1.59%)\n",
      "CO: 31,365 total positive predictions (2.83%)\n",
      "NI: 52,032 total positive predictions (4.70%)\n"
     ]
    },
    {
     "name": "stderr",
     "output_type": "stream",
     "text": [
      "\n"
     ]
    }
   ],
   "source": [
    "import os\n",
    "import pandas as pd\n",
    "import numpy as np\n",
    "from PIL import Image\n",
    "import torch\n",
    "import torch.nn as nn\n",
    "from torch.utils.data import Dataset, DataLoader\n",
    "from torchvision import transforms\n",
    "from tqdm import tqdm\n",
    "\n",
    "# Config\n",
    "DATA_DIR = \"/Users/ramiab/Desktop/Mineral-Predictions-Local\"\n",
    "GRID_CSV_PATH = os.path.join(DATA_DIR, \"Training\", \"data\", \"preprocessed\", \"grid_features.csv\")\n",
    "IMG_DIR = os.path.join(DATA_DIR, \"Images\", \"Grid-Mag-Images\")\n",
    "MODEL_PATH = os.path.join(DATA_DIR, \"Training\", \"models\", \"cnn_model_20250125_epoch1.pt\")\n",
    "BATCH_SIZE = 64\n",
    "CHUNK_SIZE = 100000\n",
    "PRINT_EVERY = 100  # Print every 100 batches\n",
    "DEVICE = \"cuda\" if torch.cuda.is_available() else \"cpu\"\n",
    "LABEL_NAMES = ['AU', 'AG', 'CU', 'CO', 'NI']\n",
    "OUTPUT_DIR = os.path.join(DATA_DIR, \"Training\", \"data\", \"output\")\n",
    "os.makedirs(OUTPUT_DIR, exist_ok=True)\n",
    "\n",
    "# Model definition (same as before)\n",
    "class MineralMultiModalNet(nn.Module):\n",
    "    def __init__(self, num_classes=5, num_geological_features=None):\n",
    "        super().__init__()\n",
    "        \n",
    "        # CNN Branch\n",
    "        self.cnn_branch = nn.Sequential(\n",
    "            nn.Conv2d(3, 32, kernel_size=3, padding=1),\n",
    "            nn.BatchNorm2d(32),\n",
    "            nn.ReLU(),\n",
    "            nn.MaxPool2d(2),\n",
    "            \n",
    "            nn.Conv2d(32, 64, kernel_size=3, padding=1),\n",
    "            nn.BatchNorm2d(64),\n",
    "            nn.ReLU(),\n",
    "            nn.MaxPool2d(2),\n",
    "            \n",
    "            nn.Conv2d(64, 128, kernel_size=3, padding=1),\n",
    "            nn.BatchNorm2d(128),\n",
    "            nn.ReLU(),\n",
    "            nn.MaxPool2d(2),\n",
    "        )\n",
    "        \n",
    "        # Geological Features Branch\n",
    "        self.geo_branch = nn.Sequential(\n",
    "            nn.Linear(num_geological_features, 256),\n",
    "            nn.BatchNorm1d(256),\n",
    "            nn.ReLU(),\n",
    "            nn.Dropout(0.3),\n",
    "            nn.Linear(256, 128),\n",
    "            nn.BatchNorm1d(128),\n",
    "            nn.ReLU(),\n",
    "            nn.Dropout(0.2)\n",
    "        )\n",
    "        \n",
    "        cnn_output_size = 128 * 21 * 21\n",
    "        \n",
    "        # Combination Layer\n",
    "        self.combiner = nn.Sequential(\n",
    "            nn.Linear(cnn_output_size + 128, 512),\n",
    "            nn.BatchNorm1d(512),\n",
    "            nn.ReLU(),\n",
    "            nn.Dropout(0.3),\n",
    "            nn.Linear(512, 256),\n",
    "            nn.BatchNorm1d(256),\n",
    "            nn.ReLU(),\n",
    "            nn.Linear(256, num_classes)\n",
    "        )\n",
    "    \n",
    "    def forward(self, img, geo_features):\n",
    "        x_img = self.cnn_branch(img)\n",
    "        x_img = x_img.view(x_img.size(0), -1)\n",
    "        x_geo = self.geo_branch(geo_features)\n",
    "        combined = torch.cat([x_img, x_geo], dim=1)\n",
    "        return self.combiner(combined)\n",
    "\n",
    "class GridPredictionDataset(Dataset):\n",
    "    def __init__(self, csv_file, img_dir, transform=None):\n",
    "        self.df = pd.read_csv(csv_file)\n",
    "        self.feature_cols = ['CODE_LITH_encoded', 'STRAT_encoded', \n",
    "                           'dist_fault', 'dist_cont']\n",
    "        self.img_dir = img_dir\n",
    "        self.transform = transform\n",
    "        print(f\"Grid dataset initialized with {len(self.df)} points\")\n",
    "        print(f\"Features being used: {self.feature_cols}\")\n",
    "    \n",
    "    def __len__(self):\n",
    "        return len(self.df)\n",
    "    \n",
    "    def __getitem__(self, idx):\n",
    "        row = self.df.iloc[idx]\n",
    "        img_id = int(row['UNIQUE_ID'])\n",
    "        img_path = os.path.join(self.img_dir, f\"{img_id}.jpg\")\n",
    "        img = Image.open(img_path).convert('RGB')\n",
    "        if self.transform:\n",
    "            img = self.transform(img)\n",
    "        geo_features = torch.tensor(row[self.feature_cols].values, dtype=torch.float32)\n",
    "        return img, geo_features, img_id\n",
    "\n",
    "print(f\"Loading model from {MODEL_PATH}\")\n",
    "checkpoint = torch.load(MODEL_PATH, map_location=DEVICE)\n",
    "model = checkpoint['model']\n",
    "model.eval()\n",
    "print(\"Model loaded successfully\")\n",
    "\n",
    "transform = transforms.Compose([\n",
    "    transforms.Resize((170, 170)),\n",
    "    transforms.ToTensor(),\n",
    "    transforms.Normalize(mean=[0.485, 0.456, 0.406],\n",
    "                        std=[0.229, 0.224, 0.225])\n",
    "])\n",
    "\n",
    "grid_dataset = GridPredictionDataset(GRID_CSV_PATH, IMG_DIR, transform)\n",
    "grid_loader = DataLoader(grid_dataset, batch_size=BATCH_SIZE, shuffle=False)\n",
    "\n",
    "# Initialize storage\n",
    "all_predictions = []\n",
    "total_items = len(grid_dataset)\n",
    "pos_counts = {label: 0 for label in LABEL_NAMES}\n",
    "\n",
    "print(\"\\nStarting predictions...\")\n",
    "print(f\"Total batches: {len(grid_loader)}\")\n",
    "print(f\"Will save CSV every {CHUNK_SIZE:,} samples (approximately every {CHUNK_SIZE//BATCH_SIZE:,} batches)\")\n",
    "print(f\"Will print status every {PRINT_EVERY} batches\")\n",
    "\n",
    "with torch.no_grad():\n",
    "    for batch_idx, (images, geo_features, uids) in enumerate(tqdm(grid_loader, desc=\"Predicting\")):\n",
    "        images = images.to(DEVICE)\n",
    "        geo_features = geo_features.to(DEVICE)\n",
    "        \n",
    "        outputs = model(images, geo_features)\n",
    "        probs = torch.sigmoid(outputs).cpu().numpy()\n",
    "        preds = (probs >= 0.5).astype(int)\n",
    "        uids = uids.numpy()\n",
    "        \n",
    "        batch_pos_counts = {label: 0 for label in LABEL_NAMES}\n",
    "        \n",
    "        for i in range(len(uids)):\n",
    "            row_dict = {'UNIQUE_ID': uids[i]}\n",
    "            for j, label in enumerate(LABEL_NAMES):\n",
    "                row_dict[f'{label}_prob'] = probs[i][j]\n",
    "                row_dict[f'{label}_pred'] = preds[i][j]\n",
    "                if preds[i][j] == 1:\n",
    "                    pos_counts[label] += 1\n",
    "                    batch_pos_counts[label] += 1\n",
    "            all_predictions.append(row_dict)\n",
    "        \n",
    "        # Print mini-status every 100 batches\n",
    "        if (batch_idx + 1) % PRINT_EVERY == 0:\n",
    "            samples_processed = (batch_idx + 1) * BATCH_SIZE\n",
    "            print(f\"\\nBatch {batch_idx + 1}/{len(grid_loader)} ({samples_processed:,} samples)\")\n",
    "            print(\"Batch predictions:\")\n",
    "            for label in LABEL_NAMES:\n",
    "                print(f\"{label}: {batch_pos_counts[label]} positives in this batch\")\n",
    "        \n",
    "        # Save chunk if needed\n",
    "        processed_so_far = (batch_idx + 1) * BATCH_SIZE\n",
    "        if processed_so_far % CHUNK_SIZE < BATCH_SIZE or processed_so_far >= total_items:\n",
    "            if processed_so_far > total_items:\n",
    "                processed_so_far = total_items\n",
    "                \n",
    "            predictions_df = pd.DataFrame(all_predictions)\n",
    "            original_df = pd.read_csv(GRID_CSV_PATH)\n",
    "            original_df['UNIQUE_ID'] = original_df['UNIQUE_ID'].astype(int)\n",
    "            merged_df = pd.merge(original_df, predictions_df, on='UNIQUE_ID', how='inner')\n",
    "            \n",
    "            out_name = f\"CNN_output_batch_{processed_so_far}.csv\"\n",
    "            out_path = os.path.join(OUTPUT_DIR, out_name)\n",
    "            merged_df.to_csv(out_path, index=False)\n",
    "            \n",
    "            print(f\"\\n{'='*50}\")\n",
    "            print(f\"SAVED CHUNK: {out_path}\")\n",
    "            print(f\"Processed {processed_so_far:,}/{total_items:,} points ({processed_so_far/total_items*100:.1f}%)\")\n",
    "            print(\"\\nCumulative prediction statistics:\")\n",
    "            for label in LABEL_NAMES:\n",
    "                pos_pct = (pos_counts[label] / processed_so_far) * 100\n",
    "                print(f\"{label}: {pos_counts[label]:,} positive predictions ({pos_pct:.2f}%)\")\n",
    "            print(f\"{'='*50}\\n\")\n",
    "\n",
    "print(\"\\nPrediction complete!\")\n",
    "print(\"Final statistics:\")\n",
    "for label in LABEL_NAMES:\n",
    "    pos_pct = (pos_counts[label] / total_items) * 100\n",
    "    print(f\"{label}: {pos_counts[label]:,} total positive predictions ({pos_pct:.2f}%)\")"
   ]
  },
  {
   "cell_type": "code",
   "execution_count": null,
   "id": "5d3f4747-c36d-497f-bf8c-ab6acca4823e",
   "metadata": {},
   "outputs": [],
   "source": []
  }
 ],
 "metadata": {
  "kernelspec": {
   "display_name": "Python 3 (ipykernel)",
   "language": "python",
   "name": "python3"
  },
  "language_info": {
   "codemirror_mode": {
    "name": "ipython",
    "version": 3
   },
   "file_extension": ".py",
   "mimetype": "text/x-python",
   "name": "python",
   "nbconvert_exporter": "python",
   "pygments_lexer": "ipython3",
   "version": "3.11.8"
  }
 },
 "nbformat": 4,
 "nbformat_minor": 5
}
