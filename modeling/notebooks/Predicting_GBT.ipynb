{
 "cells": [
  {
   "cell_type": "code",
   "execution_count": 3,
   "id": "e33fbc1f-6ec0-4c63-8bd0-ccb8e1b313bd",
   "metadata": {},
   "outputs": [
    {
     "name": "stderr",
     "output_type": "stream",
     "text": [
      "Processing elements:   0%|                                | 0/5 [00:00<?, ?it/s]"
     ]
    },
    {
     "name": "stdout",
     "output_type": "stream",
     "text": [
      "\n",
      "Processing AU...\n"
     ]
    },
    {
     "name": "stderr",
     "output_type": "stream",
     "text": [
      "Processing elements:  20%|████▊                   | 1/5 [00:02<00:09,  2.28s/it]"
     ]
    },
    {
     "name": "stdout",
     "output_type": "stream",
     "text": [
      "AU predictions: 1,071 positive samples (0.10%)\n",
      "\n",
      "Processing AG...\n"
     ]
    },
    {
     "name": "stderr",
     "output_type": "stream",
     "text": [
      "Processing elements:  40%|█████████▌              | 2/5 [00:04<00:06,  2.23s/it]"
     ]
    },
    {
     "name": "stdout",
     "output_type": "stream",
     "text": [
      "AG predictions: 9,573 positive samples (0.86%)\n",
      "\n",
      "Processing CU...\n"
     ]
    },
    {
     "name": "stderr",
     "output_type": "stream",
     "text": [
      "Processing elements:  60%|██████████████▍         | 3/5 [00:06<00:04,  2.06s/it]"
     ]
    },
    {
     "name": "stdout",
     "output_type": "stream",
     "text": [
      "CU predictions: 2,293 positive samples (0.21%)\n",
      "\n",
      "Processing CO...\n"
     ]
    },
    {
     "name": "stderr",
     "output_type": "stream",
     "text": [
      "Processing elements:  80%|███████████████████▏    | 4/5 [00:08<00:01,  1.94s/it]"
     ]
    },
    {
     "name": "stdout",
     "output_type": "stream",
     "text": [
      "CO predictions: 5,991 positive samples (0.54%)\n",
      "\n",
      "Processing NI...\n"
     ]
    },
    {
     "name": "stderr",
     "output_type": "stream",
     "text": [
      "Processing elements: 100%|████████████████████████| 5/5 [00:09<00:00,  1.96s/it]"
     ]
    },
    {
     "name": "stdout",
     "output_type": "stream",
     "text": [
      "NI predictions: 6,510 positive samples (0.59%)\n"
     ]
    },
    {
     "name": "stderr",
     "output_type": "stream",
     "text": [
      "\n"
     ]
    }
   ],
   "source": [
    "# Load models and make predictions for each element\n",
    "elements = ['AU', 'AG', 'CU', 'CO', 'NI']\n",
    "for element in tqdm(elements, desc=\"Processing elements\"):\n",
    "    print(f\"\\nProcessing {element}...\")\n",
    "    \n",
    "    # Load model\n",
    "    if element == 'AU':\n",
    "        model_path = f'/Users/ramiab/Desktop/Mineral-Predictions-Local/Training/models/gradient_boost/gradboost_{element}_20250124_1530.joblib'\n",
    "    elif element == 'AG':\n",
    "        model_path = f'/Users/ramiab/Desktop/Mineral-Predictions-Local/Training/models/gradient_boost/gradboost_{element}_20250124_1532.joblib'\n",
    "    elif element == 'CU':\n",
    "        model_path = f'/Users/ramiab/Desktop/Mineral-Predictions-Local/Training/models/gradient_boost/gradboost_{element}_20250124_1535.joblib'\n",
    "    elif element == 'CO':\n",
    "        model_path = f'/Users/ramiab/Desktop/Mineral-Predictions-Local/Training/models/gradient_boost/gradboost_{element}_20250124_1538.joblib'\n",
    "    elif element == 'NI':\n",
    "        model_path = f'/Users/ramiab/Desktop/Mineral-Predictions-Local/Training/models/gradient_boost/gradboost_{element}_20250124_1557.joblib'\n",
    "    \n",
    "    model = joblib.load(model_path)\n",
    "    \n",
    "    # Make predictions\n",
    "    probs = model.predict_proba(grid_df[feature_cols])[:, 1]\n",
    "    preds = (probs > 0.5).astype(int)\n",
    "    \n",
    "    # Store predictions\n",
    "    gb_predictions[f'{element}_prob'] = probs\n",
    "    gb_predictions[f'{element}_pred'] = preds\n",
    "    \n",
    "    n_positive = preds.sum()\n",
    "    print(f\"{element} predictions: {n_positive:,} positive samples ({n_positive/len(grid_df)*100:.2f}%)\")"
   ]
  },
  {
   "cell_type": "code",
   "execution_count": 4,
   "id": "384b2e6d-bb67-41a5-810d-5fc371823438",
   "metadata": {},
   "outputs": [
    {
     "name": "stderr",
     "output_type": "stream",
     "text": [
      "Processing elements:   0%|                                | 0/5 [00:00<?, ?it/s]"
     ]
    },
    {
     "name": "stdout",
     "output_type": "stream",
     "text": [
      "\n",
      "Processing AU...\n",
      "Loading model from: /Users/ramiab/Desktop/Mineral-Predictions-Local/Training/models/gradient_boost/gradboost_AU_20250124_1530.joblib\n"
     ]
    },
    {
     "name": "stderr",
     "output_type": "stream",
     "text": [
      "Processing elements:  20%|████▊                   | 1/5 [00:02<00:08,  2.01s/it]"
     ]
    },
    {
     "name": "stdout",
     "output_type": "stream",
     "text": [
      "AU predictions: 1,071 positive samples (0.10%)\n",
      "\n",
      "Processing AG...\n",
      "Loading model from: /Users/ramiab/Desktop/Mineral-Predictions-Local/Training/models/gradient_boost/gradboost_AG_20250124_1532.joblib\n"
     ]
    },
    {
     "name": "stderr",
     "output_type": "stream",
     "text": [
      "Processing elements:  40%|█████████▌              | 2/5 [00:03<00:05,  1.86s/it]"
     ]
    },
    {
     "name": "stdout",
     "output_type": "stream",
     "text": [
      "AG predictions: 9,573 positive samples (0.86%)\n",
      "\n",
      "Processing CU...\n",
      "Loading model from: /Users/ramiab/Desktop/Mineral-Predictions-Local/Training/models/gradient_boost/gradboost_CU_20250124_1535.joblib\n"
     ]
    },
    {
     "name": "stderr",
     "output_type": "stream",
     "text": [
      "Processing elements:  60%|██████████████▍         | 3/5 [00:05<00:03,  1.81s/it]"
     ]
    },
    {
     "name": "stdout",
     "output_type": "stream",
     "text": [
      "CU predictions: 2,293 positive samples (0.21%)\n",
      "\n",
      "Processing CO...\n",
      "Loading model from: /Users/ramiab/Desktop/Mineral-Predictions-Local/Training/models/gradient_boost/gradboost_CO_20250124_1538.joblib\n"
     ]
    },
    {
     "name": "stderr",
     "output_type": "stream",
     "text": [
      "Processing elements:  80%|███████████████████▏    | 4/5 [00:07<00:01,  1.77s/it]"
     ]
    },
    {
     "name": "stdout",
     "output_type": "stream",
     "text": [
      "CO predictions: 5,991 positive samples (0.54%)\n",
      "\n",
      "Processing NI...\n",
      "Loading model from: /Users/ramiab/Desktop/Mineral-Predictions-Local/Training/models/gradient_boost/gradboost_NI_20250124_1557.joblib\n"
     ]
    },
    {
     "name": "stderr",
     "output_type": "stream",
     "text": [
      "Processing elements: 100%|████████████████████████| 5/5 [00:08<00:00,  1.79s/it]"
     ]
    },
    {
     "name": "stdout",
     "output_type": "stream",
     "text": [
      "NI predictions: 6,510 positive samples (0.59%)\n",
      "Saving output to: /Users/ramiab/Desktop/Mineral-Predictions-Local/Training/data/output\n"
     ]
    },
    {
     "name": "stderr",
     "output_type": "stream",
     "text": [
      "\n"
     ]
    },
    {
     "name": "stdout",
     "output_type": "stream",
     "text": [
      "\n",
      "Saved Gradient Boost predictions to: /Users/ramiab/Desktop/Mineral-Predictions-Local/Training/data/output/GB_output.csv\n"
     ]
    }
   ],
   "source": [
    "# Load models and make predictions for each element\n",
    "elements = ['AU', 'AG', 'CU', 'CO', 'NI']\n",
    "for element in tqdm(elements, desc=\"Processing elements\"):\n",
    "    print(f\"\\nProcessing {element}...\")\n",
    "    \n",
    "    # Load model\n",
    "    if element == 'AU':\n",
    "        model_path = f'/Users/ramiab/Desktop/Mineral-Predictions-Local/Training/models/gradient_boost/gradboost_{element}_20250124_1530.joblib'\n",
    "    elif element == 'AG':\n",
    "        model_path = f'/Users/ramiab/Desktop/Mineral-Predictions-Local/Training/models/gradient_boost/gradboost_{element}_20250124_1532.joblib'\n",
    "    elif element == 'CU':\n",
    "        model_path = f'/Users/ramiab/Desktop/Mineral-Predictions-Local/Training/models/gradient_boost/gradboost_{element}_20250124_1535.joblib'\n",
    "    elif element == 'CO':\n",
    "        model_path = f'/Users/ramiab/Desktop/Mineral-Predictions-Local/Training/models/gradient_boost/gradboost_{element}_20250124_1538.joblib'\n",
    "    elif element == 'NI':\n",
    "        model_path = f'/Users/ramiab/Desktop/Mineral-Predictions-Local/Training/models/gradient_boost/gradboost_{element}_20250124_1557.joblib'\n",
    "    \n",
    "    print(f\"Loading model from: {model_path}\")\n",
    "    model = joblib.load(model_path)\n",
    "    \n",
    "    # Make predictions\n",
    "    probs = model.predict_proba(grid_df[feature_cols])[:, 1]\n",
    "    preds = (probs > 0.5).astype(int)\n",
    "    \n",
    "    # Store predictions\n",
    "    gb_predictions[f'{element}_prob'] = probs\n",
    "    gb_predictions[f'{element}_pred'] = preds\n",
    "    \n",
    "    n_positive = preds.sum()\n",
    "    print(f\"{element} predictions: {n_positive:,} positive samples ({n_positive/len(grid_df)*100:.2f}%)\")\n",
    "\n",
    "# Save Gradient Boost output\n",
    "output_dir = '/Users/ramiab/Desktop/Mineral-Predictions-Local/Training/data/output'\n",
    "os.makedirs(output_dir, exist_ok=True)\n",
    "print(f\"Saving output to: {output_dir}\")\n",
    "\n",
    "gb_output = pd.DataFrame(gb_predictions)\n",
    "gb_output = pd.merge(grid_df, gb_output, on='UNIQUE_ID')\n",
    "output_path = os.path.join(output_dir, 'GB_output.csv')\n",
    "gb_output.to_csv(output_path, index=False)\n",
    "\n",
    "print(f\"\\nSaved Gradient Boost predictions to: {output_path}\")"
   ]
  },
  {
   "cell_type": "code",
   "execution_count": null,
   "id": "f1a56fab-da6d-4b85-bdbc-f7442590c9c3",
   "metadata": {},
   "outputs": [],
   "source": []
  }
 ],
 "metadata": {
  "kernelspec": {
   "display_name": "Python 3 (ipykernel)",
   "language": "python",
   "name": "python3"
  },
  "language_info": {
   "codemirror_mode": {
    "name": "ipython",
    "version": 3
   },
   "file_extension": ".py",
   "mimetype": "text/x-python",
   "name": "python",
   "nbconvert_exporter": "python",
   "pygments_lexer": "ipython3",
   "version": "3.11.11"
  }
 },
 "nbformat": 4,
 "nbformat_minor": 5
}
